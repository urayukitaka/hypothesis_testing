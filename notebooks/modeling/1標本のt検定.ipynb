{
 "cells": [
  {
   "attachments": {},
   "cell_type": "markdown",
   "metadata": {},
   "source": [
    "## 1標本のt検定の事例\n",
    "\n",
    "母集団から無作為抽出された1つの標本にてついて、その母集団の平均値に対して標本平均が等しいかどうか？を検定する。"
   ]
  },
  {
   "attachments": {},
   "cell_type": "markdown",
   "metadata": {},
   "source": [
    "### (0)事前準備"
   ]
  },
  {
   "cell_type": "code",
   "execution_count": 1,
   "metadata": {},
   "outputs": [],
   "source": [
    "# ライブラリ\n",
    "import os\n",
    "import sys\n",
    "sys.path.append(\"../../scripts\")\n",
    "import warnings\n",
    "warnings.simplefilter('ignore')\n",
    "import pandas as pd\n",
    "import numpy as np\n",
    "np.random.seed(111)\n",
    "import random\n",
    "random.seed(111)\n",
    "\n",
    "# scipy\n",
    "from scipy import stats\n",
    "# graph\n",
    "import matplotlib.pyplot as plt\n",
    "import seaborn as sns\n",
    "\n",
    "# scripts\n",
    "import utils as u\n",
    "# graph setting\n",
    "u.graph_setting()"
   ]
  },
  {
   "attachments": {},
   "cell_type": "markdown",
   "metadata": {},
   "source": [
    "### (0) テーマのためのデータセット"
   ]
  },
  {
   "cell_type": "code",
   "execution_count": 2,
   "metadata": {},
   "outputs": [
    {
     "data": {
      "text/html": [
       "<div>\n",
       "<style scoped>\n",
       "    .dataframe tbody tr th:only-of-type {\n",
       "        vertical-align: middle;\n",
       "    }\n",
       "\n",
       "    .dataframe tbody tr th {\n",
       "        vertical-align: top;\n",
       "    }\n",
       "\n",
       "    .dataframe thead th {\n",
       "        text-align: right;\n",
       "    }\n",
       "</style>\n",
       "<table border=\"1\" class=\"dataframe\">\n",
       "  <thead>\n",
       "    <tr style=\"text-align: right;\">\n",
       "      <th></th>\n",
       "      <th>sepal length (cm)</th>\n",
       "      <th>sepal width (cm)</th>\n",
       "      <th>petal length (cm)</th>\n",
       "      <th>petal width (cm)</th>\n",
       "      <th>target</th>\n",
       "    </tr>\n",
       "  </thead>\n",
       "  <tbody>\n",
       "    <tr>\n",
       "      <th>0</th>\n",
       "      <td>5.1</td>\n",
       "      <td>3.5</td>\n",
       "      <td>1.4</td>\n",
       "      <td>0.2</td>\n",
       "      <td>setosa</td>\n",
       "    </tr>\n",
       "    <tr>\n",
       "      <th>1</th>\n",
       "      <td>4.9</td>\n",
       "      <td>3.0</td>\n",
       "      <td>1.4</td>\n",
       "      <td>0.2</td>\n",
       "      <td>setosa</td>\n",
       "    </tr>\n",
       "    <tr>\n",
       "      <th>2</th>\n",
       "      <td>4.7</td>\n",
       "      <td>3.2</td>\n",
       "      <td>1.3</td>\n",
       "      <td>0.2</td>\n",
       "      <td>setosa</td>\n",
       "    </tr>\n",
       "    <tr>\n",
       "      <th>3</th>\n",
       "      <td>4.6</td>\n",
       "      <td>3.1</td>\n",
       "      <td>1.5</td>\n",
       "      <td>0.2</td>\n",
       "      <td>setosa</td>\n",
       "    </tr>\n",
       "    <tr>\n",
       "      <th>4</th>\n",
       "      <td>5.0</td>\n",
       "      <td>3.6</td>\n",
       "      <td>1.4</td>\n",
       "      <td>0.2</td>\n",
       "      <td>setosa</td>\n",
       "    </tr>\n",
       "  </tbody>\n",
       "</table>\n",
       "</div>"
      ],
      "text/plain": [
       "   sepal length (cm)  sepal width (cm)  petal length (cm)  petal width (cm)   \n",
       "0                5.1               3.5                1.4               0.2  \\\n",
       "1                4.9               3.0                1.4               0.2   \n",
       "2                4.7               3.2                1.3               0.2   \n",
       "3                4.6               3.1                1.5               0.2   \n",
       "4                5.0               3.6                1.4               0.2   \n",
       "\n",
       "   target  \n",
       "0  setosa  \n",
       "1  setosa  \n",
       "2  setosa  \n",
       "3  setosa  \n",
       "4  setosa  "
      ]
     },
     "execution_count": 2,
     "metadata": {},
     "output_type": "execute_result"
    }
   ],
   "source": [
    "# scikit-learnに用意されている、アヤメのデータセットを使う\n",
    "from sklearn.datasets import load_iris\n",
    "iris = load_iris()\n",
    "\n",
    "# irisのデータセットは、辞書型で格納されているので、扱いやすいようにpandasのデータフレームに変換する。\n",
    "# 各特徴データ\n",
    "df = pd.DataFrame(iris.data, columns=iris.feature_names)\n",
    "# ラベル, 種類のデータ。各数値ラベルを名前に置き換えて加える。\n",
    "df[\"target\"] = [iris.target_names[t] for t in iris.target]\n",
    "\n",
    "df.head()"
   ]
  },
  {
   "cell_type": "code",
   "execution_count": 19,
   "metadata": {},
   "outputs": [
    {
     "name": "stdout",
     "output_type": "stream",
     "text": [
      "Sample count -> Sample = 30\n"
     ]
    },
    {
     "data": {
      "text/plain": [
       "array([5.5, 4.8, 5.4, 4.9, 5.4, 4.7, 5.1, 5.1, 5.1, 5. , 5.7, 5.5, 4.9,\n",
       "       4.4, 5.3, 4.6, 5. , 4.8, 5. , 5.1, 5. , 5.2, 5.2, 4.3, 5. , 4.6,\n",
       "       4.9, 5.4, 4.4, 4.8])"
      ]
     },
     "execution_count": 19,
     "metadata": {},
     "output_type": "execute_result"
    }
   ],
   "source": [
    "# データセットの準備\n",
    "# 'setosa'のデータを20サンプル抽出\n",
    "df_setosa = df[df[\"target\"]==\"setosa\"].sample(30, random_state=111).reset_index(drop=True)\n",
    "\n",
    "# sampling values\n",
    "values = df_setosa[\"sepal length (cm)\"].values\n",
    "print(f\"Sample count -> Sample = {len(values)}\")\n",
    "values"
   ]
  },
  {
   "attachments": {},
   "cell_type": "markdown",
   "metadata": {},
   "source": [
    "### (0) データを確認"
   ]
  },
  {
   "cell_type": "code",
   "execution_count": 8,
   "metadata": {},
   "outputs": [
    {
     "data": {
      "text/plain": [
       "<matplotlib.legend.Legend at 0x22399da94f0>"
      ]
     },
     "execution_count": 8,
     "metadata": {},
     "output_type": "execute_result"
    },
    {
     "data": {
      "image/png": "[encoded data removed]",
      "text/plain": [
       "<Figure size 720x432 with 1 Axes>"
      ]
     },
     "metadata": {
      "needs_background": "light"
     },
     "output_type": "display_data"
    }
   ],
   "source": [
    "# ヒストグラム\n",
    "fig, ax = plt.subplots(figsize=(10,6))\n",
    "\n",
    "sns.distplot(values, bins=np.arange(np.min(values)-0.1, np.max(values)+0.1, 0.1), kde=False, ax=ax, label=\"sample\")\n",
    "ax.set_xlabel(\"sepal length (cm)\")\n",
    "ax.set_ylabel(\"frequency\")\n",
    "ax.set_xlim([np.min(values)-0.1, np.max(values)+0.1])\n",
    "ax.axvline(x=5.0, ymin=0, ymax=5, color=\"red\", lw=3, linestyle=\"-\", alpha=0.5, label=\"population mean\")\n",
    "ax.legend()"
   ]
  },
  {
   "attachments": {},
   "cell_type": "markdown",
   "metadata": {},
   "source": [
    "### (0) 想定する分析シーン\n",
    "- ある花畑での'setosa'の'sepal length(cm)'の平均は、5cmであると設定する。<br>\n",
    "- 取得したデータはある1区画のデータとし、その内30本無作為抽出したものとする。<br>\n",
    "\n",
    "全体の平均値に対して差があるといえるか？を統計的に検定する。<br>"
   ]
  },
  {
   "attachments": {},
   "cell_type": "markdown",
   "metadata": {},
   "source": [
    "### (1) 問題設定\n",
    "- 帰無仮説$H_0$と対立仮説$H_1$を定義する。<br>"
   ]
  },
  {
   "attachments": {},
   "cell_type": "markdown",
   "metadata": {},
   "source": [
    "帰無仮説$H_0$：'setosa'の'sepal length'は5cmで全体平均と変わらない。<br>\n",
    "対立仮説$H_1$：5cmと異なる。<br>"
   ]
  },
  {
   "attachments": {},
   "cell_type": "markdown",
   "metadata": {},
   "source": [
    "### (2) 適切な検定方法を選択する。\n",
    "- 検定の目的、データの確認結果、サンプル数から適切な検定方法を選択する。<br>"
   ]
  },
  {
   "attachments": {},
   "cell_type": "markdown",
   "metadata": {},
   "source": [
    "1. 検定の目的<br>\n",
    "-> 母集団から無作為抽出された標本グループについて、その標本平均が母集団の平均に等しいかどうか？を検定する。\n",
    "\n",
    "2. データの確認 (ただし本分析においては仮定を置いたものとする。)<br>\n",
    "    2-1. 正規性の仮定<br>\n",
    "        -> 母集団は正規分布に従っている。<br>\n",
    "    2-2. 独立性の仮定<br>\n",
    "        -> 母集団内の個体同士は互いに独立している。<br>\n",
    "    2-3. 等分散性の仮定<br>\n",
    "        -> 母集団内の分散が等しい。<br>\n",
    "\n",
    "3. サンプル数の確認<br>\n",
    "    サンプル数：n=30<br>\n",
    "        ->30サンプル以上であり、ある程度分布の平均値やばらつきが妥当性もって評価できると考えた。\n",
    "\n",
    "\n",
    "### 検定方法：t検定を利用する。"
   ]
  },
  {
   "attachments": {},
   "cell_type": "markdown",
   "metadata": {},
   "source": [
    "### (3) 優位水準を定義する。\n",
    "- 優位と判断する水準を定義する。<br>"
   ]
  },
  {
   "attachments": {},
   "cell_type": "markdown",
   "metadata": {},
   "source": [
    "優位水準$α$=5%(両側)とする。<br>"
   ]
  },
  {
   "cell_type": "markdown",
   "metadata": {},
   "source": [
    "### (4) 検定統計量を計算する。\n",
    "- 選択した検定方法に基づいて、検定統計量を計算する。<br>"
   ]
  },
  {
   "attachments": {},
   "cell_type": "markdown",
   "metadata": {},
   "source": [
    "方法1) 各統計量を求めつつ計算する\n",
    "\n",
    "t値の計算<br>\n",
    "\n",
    "$t = \\frac{\\bar{X}-\\mu_0}{s/\\sqrt{n}}$\n",
    "\n",
    "各変数<br>\n",
    "\n",
    "$\\bar{X} : Xの平均値$<br>\n",
    "$\\mu_0 : 母集団の平均値$<br>\n",
    "$s : 標本分散$<br>\n",
    "$n : サンプル数$<br>"
   ]
  },
  {
   "cell_type": "code",
   "execution_count": 20,
   "metadata": {},
   "outputs": [],
   "source": [
    "# 関数\n",
    "def calc_tvalue(values:list, mean:float)->float:\n",
    "    '''\n",
    "    tを計算する\n",
    "\n",
    "    Args\n",
    "        values (list) : 計算対象の1次元リスト。numpy.arrayやpandas.Seriesも可\n",
    "        mean (float) : 母集団の平均値\n",
    "\n",
    "    Return\n",
    "        t : 計算されたt値を返す。\n",
    "    '''\n",
    "\n",
    "    # calc mean\n",
    "    m = np.mean(values)\n",
    "    # calc std, 不偏標本標準偏差を使う\n",
    "    s = np.std(values, ddof=1)\n",
    "    # dataset count\n",
    "    n = len(values)\n",
    "\n",
    "    # calc standard error\n",
    "    se = s / np.sqrt(n)\n",
    "\n",
    "    # t value\n",
    "    t = (m-mean) / se\n",
    "\n",
    "    # print each value\n",
    "    print(f\"Average : {m}\")\n",
    "    print(f\"Standard error : {se}\")\n",
    "    print(f\"t value : {t}\")\n",
    "\n",
    "    return t"
   ]
  },
  {
   "cell_type": "code",
   "execution_count": 22,
   "metadata": {},
   "outputs": [
    {
     "name": "stdout",
     "output_type": "stream",
     "text": [
      "Average : 5.003333333333334\n",
      "Standard error : 0.06296931077609838\n",
      "t value : 0.05293583957407878\n",
      "t value threshold : 2.3638460732082978\n"
     ]
    }
   ],
   "source": [
    "# t値を計算する\n",
    "t = calc_tvalue(values=values, mean=5.0)\n",
    "\n",
    "# 両側信頼係数のt値を求める。\n",
    "# 自由度\n",
    "d = len(values) -1\n",
    "# 片側優位水準\n",
    "alpha = 0.025\n",
    "\n",
    "# scipy.statsを使って計算する。\n",
    "t_thre = stats.t.ppf(1 - alpha/2, d)\n",
    "print(f\"t value threshold : {t_thre}\")"
   ]
  },
  {
   "attachments": {},
   "cell_type": "markdown",
   "metadata": {},
   "source": [
    "方法2) scipy.stats.ttest_1samp()関数を使って計算する。"
   ]
  },
  {
   "cell_type": "code",
   "execution_count": 13,
   "metadata": {},
   "outputs": [
    {
     "name": "stdout",
     "output_type": "stream",
     "text": [
      "t value : 0.05293583957407878\n"
     ]
    }
   ],
   "source": [
    "t_value, p_value = stats.ttest_1samp(a=values, popmean=5.0, alternative=\"two-sided\", )\n",
    "\n",
    "print(f\"t value : {t_value}\")"
   ]
  },
  {
   "attachments": {},
   "cell_type": "markdown",
   "metadata": {},
   "source": [
    "### (5) p値を計算する。\n",
    "- 検定統計量に基づいてp値を計算する。<br>"
   ]
  },
  {
   "cell_type": "code",
   "execution_count": 17,
   "metadata": {},
   "outputs": [
    {
     "name": "stdout",
     "output_type": "stream",
     "text": [
      "p value : 0.9581460055705747\n"
     ]
    }
   ],
   "source": [
    "print(f\"p value : {p_value}\")"
   ]
  },
  {
   "attachments": {},
   "cell_type": "markdown",
   "metadata": {},
   "source": [
    "### (6) 結果を解釈する。\n",
    "- p値と優位水準を比較して結果を解釈する。<br>\n",
    "p値≦$α$：帰無仮説を棄却し、対立仮説を採択する。<br>\n",
    "p値>$α$：帰無仮説を棄却できない"
   ]
  },
  {
   "attachments": {},
   "cell_type": "markdown",
   "metadata": {},
   "source": [
    "### 判定\n",
    "p値は0.958と優位水準5%より大きい。よって帰無仮説は棄却されない。<br>\n",
    "-> 差は無い"
   ]
  },
  {
   "attachments": {},
   "cell_type": "markdown",
   "metadata": {},
   "source": [
    "t分布表を見て、値の関係をイメージする。"
   ]
  },
  {
   "cell_type": "code",
   "execution_count": 18,
   "metadata": {},
   "outputs": [
    {
     "data": {
      "text/plain": [
       "<matplotlib.legend.Legend at 0x2239b119fa0>"
      ]
     },
     "execution_count": 18,
     "metadata": {},
     "output_type": "execute_result"
    },
    {
     "data": {
      "image/png": "[encoded data removed]",
      "text/plain": [
       "<Figure size 720x432 with 1 Axes>"
      ]
     },
     "metadata": {
      "needs_background": "light"
     },
     "output_type": "display_data"
    }
   ],
   "source": [
    "# t分布サンプリング\n",
    "t_range = np.linspace(-5,5,200)\n",
    "t_value_ar = []\n",
    "for i in t_range:\n",
    "    t_value_ar.append(stats.t.pdf(x=i, df=len(values)-1))\n",
    "\n",
    "# plot\n",
    "fig, ax = plt.subplots(figsize=(10,6))\n",
    "ax.plot(t_range, t_value_ar, label=\"t distribution\\ndf={}\".format(len(values)-1))\n",
    "# t value\n",
    "ax.axvline(x=t_value, ymin=0, ymax=1, color=\"red\", lw=3, linestyle=\"-\", alpha=0.5, label=\"t value\")\n",
    "ax.set_xlabel(\"t value\")\n",
    "ax.legend()"
   ]
  },
  {
   "attachments": {},
   "cell_type": "markdown",
   "metadata": {},
   "source": [
    "### (7) 効果量を計算する。\n",
    "- 検定の結果が優位であれば、効果量を計算し意義を評価する。<br>"
   ]
  },
  {
   "attachments": {},
   "cell_type": "markdown",
   "metadata": {},
   "source": [
    "### 判定\n",
    "結果は優位でないため、評価無し。<br>"
   ]
  },
  {
   "cell_type": "markdown",
   "metadata": {},
   "source": []
  },
  {
   "cell_type": "markdown",
   "metadata": {},
   "source": []
  }
 ],
 "metadata": {
  "kernelspec": {
   "display_name": "Python 3",
   "language": "python",
   "name": "python3"
  },
  "language_info": {
   "codemirror_mode": {
    "name": "ipython",
    "version": 3
   },
   "file_extension": ".py",
   "mimetype": "text/x-python",
   "name": "python",
   "nbconvert_exporter": "python",
   "pygments_lexer": "ipython3",
   "version": "3.9.7"
  },
  "orig_nbformat": 4
 },
 "nbformat": 4,
 "nbformat_minor": 2
}
