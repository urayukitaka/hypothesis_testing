{
 "cells": [
  {
   "attachments": {},
   "cell_type": "markdown",
   "metadata": {},
   "source": [
    "## 対応のある2標本のt検定\n",
    "\n",
    "同じ母集団から無作為抽出された2つの標本にてついて、標本平均が等しいかどうか？を検定する。"
   ]
  },
  {
   "cell_type": "code",
   "execution_count": 1,
   "metadata": {},
   "outputs": [],
   "source": [
    "import os\n",
    "import sys\n",
    "sys.path.append(\"../../scripts\")\n",
    "import warnings\n",
    "warnings.simplefilter('ignore')\n",
    "\n",
    "# Libraries\n",
    "import pandas as pd\n",
    "import numpy as np\n",
    "np.random.seed(111)\n",
    "\n",
    "# scipy\n",
    "from scipy import stats\n",
    "# graph\n",
    "import matplotlib.pyplot as plt\n",
    "import seaborn as sns\n",
    "\n",
    "import random\n",
    "random.seed(111)\n",
    "\n",
    "# scripts\n",
    "import utils as u"
   ]
  },
  {
   "cell_type": "code",
   "execution_count": 2,
   "metadata": {},
   "outputs": [],
   "source": [
    "# graph setting\n",
    "u.graph_setting()"
   ]
  },
  {
   "attachments": {},
   "cell_type": "markdown",
   "metadata": {},
   "source": [
    "### データセット"
   ]
  },
  {
   "cell_type": "code",
   "execution_count": 3,
   "metadata": {},
   "outputs": [
    {
     "data": {
      "text/html": [
       "<div>\n",
       "<style scoped>\n",
       "    .dataframe tbody tr th:only-of-type {\n",
       "        vertical-align: middle;\n",
       "    }\n",
       "\n",
       "    .dataframe tbody tr th {\n",
       "        vertical-align: top;\n",
       "    }\n",
       "\n",
       "    .dataframe thead th {\n",
       "        text-align: right;\n",
       "    }\n",
       "</style>\n",
       "<table border=\"1\" class=\"dataframe\">\n",
       "  <thead>\n",
       "    <tr style=\"text-align: right;\">\n",
       "      <th></th>\n",
       "      <th>sepal length (cm)</th>\n",
       "      <th>sepal width (cm)</th>\n",
       "      <th>petal length (cm)</th>\n",
       "      <th>petal width (cm)</th>\n",
       "      <th>target</th>\n",
       "    </tr>\n",
       "  </thead>\n",
       "  <tbody>\n",
       "    <tr>\n",
       "      <th>0</th>\n",
       "      <td>5.1</td>\n",
       "      <td>3.5</td>\n",
       "      <td>1.4</td>\n",
       "      <td>0.2</td>\n",
       "      <td>setosa</td>\n",
       "    </tr>\n",
       "    <tr>\n",
       "      <th>1</th>\n",
       "      <td>4.9</td>\n",
       "      <td>3.0</td>\n",
       "      <td>1.4</td>\n",
       "      <td>0.2</td>\n",
       "      <td>setosa</td>\n",
       "    </tr>\n",
       "    <tr>\n",
       "      <th>2</th>\n",
       "      <td>4.7</td>\n",
       "      <td>3.2</td>\n",
       "      <td>1.3</td>\n",
       "      <td>0.2</td>\n",
       "      <td>setosa</td>\n",
       "    </tr>\n",
       "    <tr>\n",
       "      <th>3</th>\n",
       "      <td>4.6</td>\n",
       "      <td>3.1</td>\n",
       "      <td>1.5</td>\n",
       "      <td>0.2</td>\n",
       "      <td>setosa</td>\n",
       "    </tr>\n",
       "    <tr>\n",
       "      <th>4</th>\n",
       "      <td>5.0</td>\n",
       "      <td>3.6</td>\n",
       "      <td>1.4</td>\n",
       "      <td>0.2</td>\n",
       "      <td>setosa</td>\n",
       "    </tr>\n",
       "  </tbody>\n",
       "</table>\n",
       "</div>"
      ],
      "text/plain": [
       "   sepal length (cm)  sepal width (cm)  petal length (cm)  petal width (cm)   \n",
       "0                5.1               3.5                1.4               0.2  \\\n",
       "1                4.9               3.0                1.4               0.2   \n",
       "2                4.7               3.2                1.3               0.2   \n",
       "3                4.6               3.1                1.5               0.2   \n",
       "4                5.0               3.6                1.4               0.2   \n",
       "\n",
       "   target  \n",
       "0  setosa  \n",
       "1  setosa  \n",
       "2  setosa  \n",
       "3  setosa  \n",
       "4  setosa  "
      ]
     },
     "execution_count": 3,
     "metadata": {},
     "output_type": "execute_result"
    }
   ],
   "source": [
    "# scikit-learnに用意されている、アヤメのデータセットを使う\n",
    "from sklearn.datasets import load_iris\n",
    "iris = load_iris()\n",
    "\n",
    "# irisのデータセットは、辞書型で格納されているので、扱いやすいようにpandasのデータフレームに変換する。\n",
    "# 各特徴データ\n",
    "df = pd.DataFrame(iris.data, columns=iris.feature_names)\n",
    "# ラベル, 種類のデータ。各数値ラベルを名前に置き換えて加える。\n",
    "df[\"target\"] = [iris.target_names[t] for t in iris.target]\n",
    "\n",
    "df.head()"
   ]
  },
  {
   "cell_type": "code",
   "execution_count": 5,
   "metadata": {},
   "outputs": [
    {
     "data": {
      "text/plain": [
       "(array([5.5, 4.8, 5.4, 4.9, 5.4, 4.7, 5.1, 5.1, 5.1, 5. , 5.7, 5.5, 4.9,\n",
       "        4.4, 5.3, 4.6, 5. , 4.8, 5. , 5.1, 5. , 5.2, 5.2, 4.3, 5. ]),\n",
       " array([4.6, 4.9, 5.4, 4.4, 4.8, 5.1, 4.4, 5.8, 5.2, 4.8, 4.9, 5.4, 4.8,\n",
       "        5.1, 5. , 5. , 5.7, 4.7, 4.5, 5.1, 4.6, 4.6, 5. , 5.1, 5.4]))"
      ]
     },
     "execution_count": 5,
     "metadata": {},
     "output_type": "execute_result"
    }
   ],
   "source": [
    "# データセットの準備\n",
    "# 'setosa'のデータをランダマイズ\n",
    "df_setosa = df[df[\"target\"]==\"setosa\"].sample(frac=1).reset_index(drop=True)\n",
    "\n",
    "# sampling values\n",
    "values = df_setosa[\"sepal length (cm)\"].values\n",
    "\n",
    "# dataset 1, and 2 sample\n",
    "values1 = values[:int(len(values)/2)]\n",
    "values2 = values[int(len(values)/2):]\n",
    "\n",
    "values1, values2"
   ]
  },
  {
   "cell_type": "markdown",
   "metadata": {},
   "source": [
    "### 問題設定"
   ]
  },
  {
   "attachments": {},
   "cell_type": "markdown",
   "metadata": {},
   "source": [
    "- ある花畑での'setosa'の'sepal length(cm)'を計測する。<br>\n",
    "- 取得したデータはある2区画のデータとし25本ずつ抽出したものとする。<br>\n",
    "- それぞれの区画の平均値に差があるといえるか？を統計的に検定する。<br>\n",
    "->データセットは元のirisデータをランダムに2分割したものを、2つの区画のデータと仮定して取り扱う。<br>\n",
    "\n",
    "帰無仮説：'setosa'の'sepal length'の平均値は変わらない。<br>\n",
    "対立仮説：2つの区画の平均値が異なる。<br>\n",
    "優位水準α=5%(両側)とし判断する。<br>"
   ]
  },
  {
   "attachments": {},
   "cell_type": "markdown",
   "metadata": {},
   "source": [
    "### データをグラフ確認"
   ]
  },
  {
   "cell_type": "code",
   "execution_count": 9,
   "metadata": {},
   "outputs": [
    {
     "data": {
      "text/plain": [
       "<matplotlib.legend.Legend at 0x221e81d2580>"
      ]
     },
     "execution_count": 9,
     "metadata": {},
     "output_type": "execute_result"
    },
    {
     "data": {
      "image/png": "[encoded data removed]",
      "text/plain": [
       "<Figure size 720x432 with 1 Axes>"
      ]
     },
     "metadata": {
      "needs_background": "light"
     },
     "output_type": "display_data"
    }
   ],
   "source": [
    "# distplot\n",
    "fig, ax = plt.subplots(figsize=(10,6))\n",
    "\n",
    "sns.distplot(values1, bins=np.arange(np.min(values1)-0.1, np.max(values1)+0.1, 0.1), kde=False, ax=ax, label=f\"Sample1_{np.mean(values1)}\")\n",
    "sns.distplot(values2, bins=np.arange(np.min(values2)-0.1, np.max(values2)+0.1, 0.1), kde=False, ax=ax, label=f\"Sample2_{np.mean(values2)}\")\n",
    "ax.set_xlabel(\"sepal length (cm)\")\n",
    "ax.set_xlim([np.min(values1)-0.1, np.max(values1)+0.1])\n",
    "ax.legend()"
   ]
  },
  {
   "cell_type": "code",
   "execution_count": 28,
   "metadata": {},
   "outputs": [
    {
     "name": "stderr",
     "output_type": "stream",
     "text": [
      "No artists with labels found to put in legend.  Note that artists whose label start with an underscore are ignored when legend() is called with no argument.\n"
     ]
    },
    {
     "data": {
      "text/plain": [
       "<matplotlib.legend.Legend at 0x221e9961340>"
      ]
     },
     "execution_count": 28,
     "metadata": {},
     "output_type": "execute_result"
    },
    {
     "data": {
      "image/png": "[encoded data removed]",
      "text/plain": [
       "<Figure size 720x432 with 1 Axes>"
      ]
     },
     "metadata": {
      "needs_background": "light"
     },
     "output_type": "display_data"
    }
   ],
   "source": [
    "# box plot\n",
    "fig, ax = plt.subplots(figsize=(10,6))\n",
    "\n",
    "data = pd.concat([\n",
    "       pd.DataFrame({\"Sample\":[\"Sample1\" for i in range(len(values1))],\n",
    "                     \"Values\":values1}),\n",
    "       pd.DataFrame({\"Sample\":[\"Sample2\" for i in range(len(values2))],\n",
    "                     \"Values\":values2})\n",
    "       ]).reset_index(drop=True)\n",
    "\n",
    "sns.boxplot(data=data, x=\"Sample\", y=\"Values\")\n",
    "ax.set_xlabel(\"Sample group\")\n",
    "ax.set_ylabel(\"sepal length (cm)\")\n",
    "ax.legend()"
   ]
  },
  {
   "attachments": {},
   "cell_type": "markdown",
   "metadata": {},
   "source": [
    "### (1)統計量を求めながらt値を計算する"
   ]
  },
  {
   "cell_type": "code",
   "execution_count": 29,
   "metadata": {},
   "outputs": [],
   "source": [
    "# Function\n",
    "def calc_tvalue(values1:list, values2:list)->float:\n",
    "    '''\n",
    "    tを計算する\n",
    "\n",
    "    Args\n",
    "        values1 (list) : 標本1の計算対象の1次元リスト。numpy.arrayやpandas.Seriesも可\n",
    "        values1 (list) : 標本1の計算対象の1次元リスト。numpy.arrayやpandas.Seriesも可\n",
    "\n",
    "    Return\n",
    "        t : 計算されたt値を返す。\n",
    "    '''\n",
    "\n",
    "    # calculate difference\n",
    "    d = np.array(values1) - np.array(values2)\n",
    "\n",
    "    # calc mean\n",
    "    m_d = np.mean(d)\n",
    "    # calc std, 不偏標本標準偏差を使う\n",
    "    s_d = np.std(d, ddof=1)\n",
    "    # dataset count\n",
    "    n = len(d)\n",
    "\n",
    "    # calc standard error\n",
    "    se = s_d / np.sqrt(n)\n",
    "\n",
    "    # t value\n",
    "    t = m_d / se\n",
    "\n",
    "    # print each value\n",
    "    print(f\"Average difference : {m_d}\")\n",
    "    print(f\"Standard error : {se}\")\n",
    "    print(f\"t value : {t}\")\n",
    "\n",
    "\n",
    "    return t"
   ]
  },
  {
   "cell_type": "code",
   "execution_count": 30,
   "metadata": {},
   "outputs": [
    {
     "name": "stdout",
     "output_type": "stream",
     "text": [
      "Average difference : 0.068\n",
      "Standard error : 0.10011992808627061\n",
      "t value : 0.6791854658685558\n"
     ]
    },
    {
     "data": {
      "text/plain": [
       "0.6791854658685558"
      ]
     },
     "execution_count": 30,
     "metadata": {},
     "output_type": "execute_result"
    }
   ],
   "source": [
    "# calculate t value\n",
    "t = calc_tvalue(values1=values1, values2=values2)\n",
    "t"
   ]
  },
  {
   "cell_type": "code",
   "execution_count": 17,
   "metadata": {},
   "outputs": [
    {
     "name": "stdout",
     "output_type": "stream",
     "text": [
      "2.390949315129389\n"
     ]
    }
   ],
   "source": [
    "# 両側信頼係数のt値を求める。\n",
    "\n",
    "# 自由度\n",
    "d = len(values1) - 1\n",
    "# 片側優位水準\n",
    "alpha = 0.025\n",
    "\n",
    "# scipy.statsを使って計算する。\n",
    "t_thre = stats.t.ppf(1 - alpha/2, d)\n",
    "print(t_thre)"
   ]
  },
  {
   "attachments": {},
   "cell_type": "markdown",
   "metadata": {},
   "source": [
    "### 判定\n",
    "- t値は0.679で、優位水準5%の片側2.5%点の値2.39より小さい。よって帰無仮説は棄却されない。<br>\n",
    "-> 差は無い"
   ]
  },
  {
   "attachments": {},
   "cell_type": "markdown",
   "metadata": {},
   "source": [
    "### (2) scipy.stats.ttest_rel()関数を使って計算する。"
   ]
  },
  {
   "cell_type": "code",
   "execution_count": 18,
   "metadata": {},
   "outputs": [
    {
     "data": {
      "text/plain": [
       "(0.6791854658685557, 0.5035184002287219)"
      ]
     },
     "execution_count": 18,
     "metadata": {},
     "output_type": "execute_result"
    }
   ],
   "source": [
    "t_value, p_value = stats.ttest_rel(a=values1, b=values2, alternative=\"two-sided\", )\n",
    "t_value, p_value"
   ]
  },
  {
   "attachments": {},
   "cell_type": "markdown",
   "metadata": {},
   "source": [
    "### 判定\n",
    "- p値は0.504と優位水準5%より大きい。よって帰無仮説は棄却されない。<br>\n",
    "-> 差は無い"
   ]
  },
  {
   "attachments": {},
   "cell_type": "markdown",
   "metadata": {},
   "source": [
    "### グラフ確認\n",
    "t分布表を見て、値の関係をイメージする。"
   ]
  },
  {
   "cell_type": "code",
   "execution_count": 26,
   "metadata": {},
   "outputs": [
    {
     "data": {
      "text/plain": [
       "<matplotlib.legend.Legend at 0x221e955bbb0>"
      ]
     },
     "execution_count": 26,
     "metadata": {},
     "output_type": "execute_result"
    },
    {
     "data": {
      "image/png": "[encoded data removed]",
      "text/plain": [
       "<Figure size 720x432 with 1 Axes>"
      ]
     },
     "metadata": {
      "needs_background": "light"
     },
     "output_type": "display_data"
    }
   ],
   "source": [
    "# t分布サンプリング\n",
    "t_range = np.linspace(-5,5,200)\n",
    "t_value_ar = []\n",
    "for i in t_range:\n",
    "    t_value_ar.append(stats.t.pdf(x=i, df=len(values1)-1))\n",
    "\n",
    "# plot\n",
    "plt.figure(figsize=(10,6))\n",
    "plt.plot(t_range, t_value_ar, label=\"t distribution\\ndf={}\".format(len(values1)-1))\n",
    "plt.xlabel(\"t value\")\n",
    "plt.legend()"
   ]
  },
  {
   "cell_type": "code",
   "execution_count": null,
   "metadata": {},
   "outputs": [],
   "source": []
  }
 ],
 "metadata": {
  "kernelspec": {
   "display_name": "Python 3",
   "language": "python",
   "name": "python3"
  },
  "language_info": {
   "codemirror_mode": {
    "name": "ipython",
    "version": 3
   },
   "file_extension": ".py",
   "mimetype": "text/x-python",
   "name": "python",
   "nbconvert_exporter": "python",
   "pygments_lexer": "ipython3",
   "version": "3.9.7"
  },
  "orig_nbformat": 4
 },
 "nbformat": 4,
 "nbformat_minor": 2
}
