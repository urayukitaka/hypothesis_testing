{
 "cells": [
  {
   "attachments": {},
   "cell_type": "markdown",
   "metadata": {},
   "source": [
    "## 対応のある2標本のt検定の事例\n",
    "\n",
    "同じ母集団から無作為抽出された2つの標本にてついて、標本平均が等しいかどうか？を検定する。"
   ]
  },
  {
   "attachments": {},
   "cell_type": "markdown",
   "metadata": {},
   "source": [
    "### (0)事前準備"
   ]
  },
  {
   "cell_type": "code",
   "execution_count": 1,
   "metadata": {},
   "outputs": [],
   "source": [
    "# ライブラリ\n",
    "import os\n",
    "import sys\n",
    "sys.path.append(\"../../scripts\")\n",
    "import warnings\n",
    "warnings.simplefilter('ignore')\n",
    "import pandas as pd\n",
    "import numpy as np\n",
    "np.random.seed(111)\n",
    "import random\n",
    "random.seed(111)\n",
    "\n",
    "# scipy\n",
    "from scipy import stats\n",
    "# graph\n",
    "import matplotlib.pyplot as plt\n",
    "import seaborn as sns\n",
    "\n",
    "# scripts\n",
    "import utils as u\n",
    "# graph setting\n",
    "u.graph_setting()"
   ]
  },
  {
   "attachments": {},
   "cell_type": "markdown",
   "metadata": {},
   "source": [
    "### (0) テーマのためのデータセット"
   ]
  },
  {
   "cell_type": "code",
   "execution_count": 3,
   "metadata": {},
   "outputs": [
    {
     "data": {
      "text/html": [
       "<div>\n",
       "<style scoped>\n",
       "    .dataframe tbody tr th:only-of-type {\n",
       "        vertical-align: middle;\n",
       "    }\n",
       "\n",
       "    .dataframe tbody tr th {\n",
       "        vertical-align: top;\n",
       "    }\n",
       "\n",
       "    .dataframe thead th {\n",
       "        text-align: right;\n",
       "    }\n",
       "</style>\n",
       "<table border=\"1\" class=\"dataframe\">\n",
       "  <thead>\n",
       "    <tr style=\"text-align: right;\">\n",
       "      <th></th>\n",
       "      <th>sepal length (cm)</th>\n",
       "      <th>sepal width (cm)</th>\n",
       "      <th>petal length (cm)</th>\n",
       "      <th>petal width (cm)</th>\n",
       "      <th>target</th>\n",
       "    </tr>\n",
       "  </thead>\n",
       "  <tbody>\n",
       "    <tr>\n",
       "      <th>0</th>\n",
       "      <td>5.1</td>\n",
       "      <td>3.5</td>\n",
       "      <td>1.4</td>\n",
       "      <td>0.2</td>\n",
       "      <td>setosa</td>\n",
       "    </tr>\n",
       "    <tr>\n",
       "      <th>1</th>\n",
       "      <td>4.9</td>\n",
       "      <td>3.0</td>\n",
       "      <td>1.4</td>\n",
       "      <td>0.2</td>\n",
       "      <td>setosa</td>\n",
       "    </tr>\n",
       "    <tr>\n",
       "      <th>2</th>\n",
       "      <td>4.7</td>\n",
       "      <td>3.2</td>\n",
       "      <td>1.3</td>\n",
       "      <td>0.2</td>\n",
       "      <td>setosa</td>\n",
       "    </tr>\n",
       "    <tr>\n",
       "      <th>3</th>\n",
       "      <td>4.6</td>\n",
       "      <td>3.1</td>\n",
       "      <td>1.5</td>\n",
       "      <td>0.2</td>\n",
       "      <td>setosa</td>\n",
       "    </tr>\n",
       "    <tr>\n",
       "      <th>4</th>\n",
       "      <td>5.0</td>\n",
       "      <td>3.6</td>\n",
       "      <td>1.4</td>\n",
       "      <td>0.2</td>\n",
       "      <td>setosa</td>\n",
       "    </tr>\n",
       "  </tbody>\n",
       "</table>\n",
       "</div>"
      ],
      "text/plain": [
       "   sepal length (cm)  sepal width (cm)  petal length (cm)  petal width (cm)   \n",
       "0                5.1               3.5                1.4               0.2  \\\n",
       "1                4.9               3.0                1.4               0.2   \n",
       "2                4.7               3.2                1.3               0.2   \n",
       "3                4.6               3.1                1.5               0.2   \n",
       "4                5.0               3.6                1.4               0.2   \n",
       "\n",
       "   target  \n",
       "0  setosa  \n",
       "1  setosa  \n",
       "2  setosa  \n",
       "3  setosa  \n",
       "4  setosa  "
      ]
     },
     "execution_count": 3,
     "metadata": {},
     "output_type": "execute_result"
    }
   ],
   "source": [
    "# scikit-learnに用意されている、アヤメのデータセットを使う\n",
    "from sklearn.datasets import load_iris\n",
    "iris = load_iris()\n",
    "\n",
    "# irisのデータセットは、辞書型で格納されているので、扱いやすいようにpandasのデータフレームに変換する。\n",
    "# 各特徴データ\n",
    "df = pd.DataFrame(iris.data, columns=iris.feature_names)\n",
    "# ラベル, 種類のデータ。各数値ラベルを名前に置き換えて加える。\n",
    "df[\"target\"] = [iris.target_names[t] for t in iris.target]\n",
    "\n",
    "df.head()"
   ]
  },
  {
   "cell_type": "code",
   "execution_count": 9,
   "metadata": {},
   "outputs": [
    {
     "name": "stdout",
     "output_type": "stream",
     "text": [
      "Sample count -> Sample1 : Sample2 = 25 / 25\n"
     ]
    },
    {
     "data": {
      "text/plain": [
       "(array([5. , 5. , 5.1, 5.1, 4.9, 4.7, 5.4, 5.7, 4.6, 5.5, 4.9, 5.1, 4.8,\n",
       "        5. , 4.8, 5.4, 4.4, 5.8, 4.4, 5. , 4.7, 5.1, 4.8, 5.1, 5.4]),\n",
       " array([4.6, 5. , 4.6, 5.1, 4.3, 4.4, 5. , 5.1, 5.5, 5.2, 4.6, 5.1, 5.4,\n",
       "        5. , 5. , 5.7, 5.3, 4.5, 4.8, 4.9, 4.9, 5.2, 4.8, 5.2, 5.4]))"
      ]
     },
     "execution_count": 9,
     "metadata": {},
     "output_type": "execute_result"
    }
   ],
   "source": [
    "# データセットの準備\n",
    "# 'setosa'のデータをランダマイズ\n",
    "df_setosa = df[df[\"target\"]==\"setosa\"].sample(frac=1).reset_index(drop=True)\n",
    "\n",
    "# sampling values\n",
    "values = df_setosa[\"sepal length (cm)\"].values\n",
    "\n",
    "# dataset 1, and 2 sample\n",
    "values1 = values[:int(len(values)/2)]\n",
    "values2 = values[int(len(values)/2):]\n",
    "\n",
    "print(f\"Sample count -> Sample1 : Sample2 = {len(values1)} / {len(values2)}\")\n",
    "values1, values2"
   ]
  },
  {
   "attachments": {},
   "cell_type": "markdown",
   "metadata": {},
   "source": [
    "### (0) データを確認"
   ]
  },
  {
   "cell_type": "code",
   "execution_count": 15,
   "metadata": {},
   "outputs": [
    {
     "data": {
      "text/plain": [
       "<matplotlib.legend.Legend at 0x19d27f6dcd0>"
      ]
     },
     "execution_count": 15,
     "metadata": {},
     "output_type": "execute_result"
    },
    {
     "data": {
      "image/png": "[encoded data removed]",
      "text/plain": [
       "<Figure size 720x432 with 1 Axes>"
      ]
     },
     "metadata": {
      "needs_background": "light"
     },
     "output_type": "display_data"
    }
   ],
   "source": [
    "# ヒストグラム\n",
    "fig, ax = plt.subplots(figsize=(10,6))\n",
    "\n",
    "sns.distplot(values1, bins=np.arange(np.min(values1)-0.1, np.max(values1)+0.1, 0.1), kde=False, ax=ax, label=f\"Sample1_{np.mean(values1)}\")\n",
    "sns.distplot(values2, bins=np.arange(np.min(values2)-0.1, np.max(values2)+0.1, 0.1), kde=False, ax=ax, label=f\"Sample2_{np.mean(values2)}\")\n",
    "ax.set_xlabel(\"sepal length (cm)\")\n",
    "ax.set_ylabel('Frequency')\n",
    "ax.set_xlim([np.min(values1)-0.1, np.max(values1)+0.1])\n",
    "ax.legend()"
   ]
  },
  {
   "cell_type": "code",
   "execution_count": 6,
   "metadata": {},
   "outputs": [
    {
     "name": "stderr",
     "output_type": "stream",
     "text": [
      "No artists with labels found to put in legend.  Note that artists whose label start with an underscore are ignored when legend() is called with no argument.\n"
     ]
    },
    {
     "data": {
      "text/plain": [
       "<matplotlib.legend.Legend at 0x19d26d20700>"
      ]
     },
     "execution_count": 6,
     "metadata": {},
     "output_type": "execute_result"
    },
    {
     "data": {
      "image/png": "[encoded data removed]",
      "text/plain": [
       "<Figure size 720x432 with 1 Axes>"
      ]
     },
     "metadata": {
      "needs_background": "light"
     },
     "output_type": "display_data"
    }
   ],
   "source": [
    "# ボックスプロット\n",
    "fig, ax = plt.subplots(figsize=(10,6))\n",
    "\n",
    "data = pd.concat([\n",
    "       pd.DataFrame({\"Sample\":[\"Sample1\" for i in range(len(values1))],\n",
    "                     \"Values\":values1}),\n",
    "       pd.DataFrame({\"Sample\":[\"Sample2\" for i in range(len(values2))],\n",
    "                     \"Values\":values2})\n",
    "       ]).reset_index(drop=True)\n",
    "\n",
    "sns.boxplot(data=data, x=\"Sample\", y=\"Values\")\n",
    "ax.set_xlabel(\"Sample group\")\n",
    "ax.set_ylabel(\"sepal length (cm)\")\n",
    "ax.legend()"
   ]
  },
  {
   "attachments": {},
   "cell_type": "markdown",
   "metadata": {},
   "source": [
    "### (0) 想定する分析シーン\n",
    "\n",
    "- ある花畑での'setosa'の'sepal length(cm)'を計測する。<br>\n",
    "- 取得したデータはある2区画のデータとし25本ずつ抽出したものとする。<br>\n",
    "*データセットは元のirisデータをランダムに2分割したものを、2つの区画のデータと仮定して取り扱う。<br>\n",
    "\n",
    "それぞれの区画の平均値に差があるといえるか？を統計的に検定する。<br>"
   ]
  },
  {
   "attachments": {},
   "cell_type": "markdown",
   "metadata": {},
   "source": [
    "### (1) 問題設定\n",
    "- 帰無仮説$H_0$と対立仮説$H_1$を定義する。<br>"
   ]
  },
  {
   "attachments": {},
   "cell_type": "markdown",
   "metadata": {},
   "source": [
    "帰無仮説$H_0$：'setosa'の'sepal length'の平均値は変わらない。<br>\n",
    "対立仮説$H_1$：2つの区画の平均値が異なる。<br>"
   ]
  },
  {
   "attachments": {},
   "cell_type": "markdown",
   "metadata": {},
   "source": [
    "### (2) 適切な検定方法を選択する。\n",
    "- 検定の目的、データの確認結果、サンプル数から適切な検定方法を選択する。<br>"
   ]
  },
  {
   "attachments": {},
   "cell_type": "markdown",
   "metadata": {},
   "source": [
    "1. 検定の目的<br>\n",
    "-> 母集団から無作為抽出された2つの標本グループについて、その標本平均が等しいかどうか？を検定する。\n",
    "\n",
    "2. データの確認 (ただし本分析においては仮定を置いたものとする。)<br>\n",
    "    2-1. 正規性の仮定<br>\n",
    "        -> 母集団の差は正規分布に従っている。<br>\n",
    "    2-2. 独立性の仮定<br>\n",
    "        -> 母集団内の個体同士は互いに独立している。<br>\n",
    "\n",
    "3. サンプル数の確認<br>\n",
    "    サンプル数：$n_1$=25, $n_2$=25<br>\n",
    "        ->各群30サンプル以下であるが、25個程度あれば、ある程度分布の平均値やばらつきが妥当性もって評価できると考えた。\n",
    "\n",
    "\n",
    "### 検定方法：t検定を利用する。"
   ]
  },
  {
   "attachments": {},
   "cell_type": "markdown",
   "metadata": {},
   "source": [
    "### (3) 優位水準を定義する。\n",
    "- 優位と判断する水準を定義する。<br>"
   ]
  },
  {
   "attachments": {},
   "cell_type": "markdown",
   "metadata": {},
   "source": [
    "優位水準α=5%(両側)とする。<br>"
   ]
  },
  {
   "attachments": {},
   "cell_type": "markdown",
   "metadata": {},
   "source": [
    "### (4) 検定統計量を計算する。\n",
    "- 選択した検定方法に基づいて、検定統計量を計算する。<br>"
   ]
  },
  {
   "attachments": {},
   "cell_type": "markdown",
   "metadata": {},
   "source": [
    "方法1) 各統計量を求めつつ計算する\n",
    "\n",
    "t値の計算<br>\n",
    "\n",
    "$t = \\frac{\\bar{d}}{s/\\sqrt{n}}\\\\$\n",
    "<br>\n",
    "\n",
    "各変数<br>\n",
    "\n",
    "$d : X_1 - X_2, 標本1と標本2の差$<br>\n",
    "$\\bar{d} : dの平均値$<br>\n",
    "$s : dの標本分散$<br>\n",
    "$n : サンプル数$<br>\n"
   ]
  },
  {
   "cell_type": "code",
   "execution_count": 10,
   "metadata": {},
   "outputs": [],
   "source": [
    "# Function\n",
    "def calc_tvalue(values1:list, values2:list)->float:\n",
    "    '''\n",
    "    tを計算する\n",
    "\n",
    "    Args\n",
    "        values1 (list) : 標本1の計算対象の1次元リスト。numpy.arrayやpandas.Seriesも可\n",
    "        values2 (list) : 標本1の計算対象の1次元リスト。numpy.arrayやpandas.Seriesも可\n",
    "\n",
    "    Return\n",
    "        t : 計算されたt値を返す。\n",
    "    '''\n",
    "\n",
    "    # calculate difference\n",
    "    d = np.array(values1) - np.array(values2)\n",
    "\n",
    "    # calc mean\n",
    "    m_d = np.mean(d)\n",
    "    # calc std, 不偏標本標準偏差を使う\n",
    "    s_d = np.std(d, ddof=1)\n",
    "    # dataset count\n",
    "    n = len(d)\n",
    "\n",
    "    # calc standard error\n",
    "    se = s_d / np.sqrt(n)\n",
    "\n",
    "    # t value\n",
    "    t = m_d / se\n",
    "\n",
    "    # print each value\n",
    "    print(f\"Average difference : {m_d}\")\n",
    "    print(f\"Standard error : {se}\")\n",
    "    print(f\"t value : {t}\")\n",
    "\n",
    "\n",
    "    return t"
   ]
  },
  {
   "cell_type": "code",
   "execution_count": 11,
   "metadata": {},
   "outputs": [
    {
     "name": "stdout",
     "output_type": "stream",
     "text": [
      "Average difference : 0.04400000000000002\n",
      "Standard error : 0.09610411021387172\n",
      "t value : 0.4578368178226891\n",
      "t value threshold : 2.0638985616280205\n"
     ]
    }
   ],
   "source": [
    "# calculate t value\n",
    "t = calc_tvalue(values1=values1, values2=values2)\n",
    "\n",
    "# 両側信頼係数のt値を求める。\n",
    "# 自由度\n",
    "d = len(values1) - 1\n",
    "# 片側優位水準\n",
    "alpha = 0.05\n",
    "\n",
    "# scipy.statsを使って計算する。\n",
    "t_thre = stats.t.ppf(1 - alpha/2, d)\n",
    "print(f\"t value threshold : {t_thre}\")"
   ]
  },
  {
   "attachments": {},
   "cell_type": "markdown",
   "metadata": {},
   "source": [
    "方法2) scipy.stats.ttest_rel()関数を使って計算する。"
   ]
  },
  {
   "cell_type": "code",
   "execution_count": 12,
   "metadata": {},
   "outputs": [
    {
     "name": "stdout",
     "output_type": "stream",
     "text": [
      "t value : 0.4578368178226891\n"
     ]
    }
   ],
   "source": [
    "t_value, p_value = stats.ttest_rel(a=values1, b=values2, alternative=\"two-sided\", )\n",
    "\n",
    "print(f\"t value : {t_value}\")"
   ]
  },
  {
   "attachments": {},
   "cell_type": "markdown",
   "metadata": {},
   "source": [
    "### (5) p値を計算する。\n",
    "- 検定統計量に基づいてp値を計算する。<br>"
   ]
  },
  {
   "cell_type": "code",
   "execution_count": 13,
   "metadata": {},
   "outputs": [
    {
     "name": "stdout",
     "output_type": "stream",
     "text": [
      "p value : 0.6511878586076014\n"
     ]
    }
   ],
   "source": [
    "print(f\"p value : {p_value}\")"
   ]
  },
  {
   "attachments": {},
   "cell_type": "markdown",
   "metadata": {},
   "source": [
    "### (6) 結果を解釈する。\n",
    "- p値と優位水準を比較して結果を解釈する。<br>\n",
    "p値≦$α$：帰無仮説を棄却し、対立仮説を採択する。<br>\n",
    "p値>$α$：帰無仮説を棄却できない"
   ]
  },
  {
   "attachments": {},
   "cell_type": "markdown",
   "metadata": {},
   "source": [
    "### 判定\n",
    "p値は0.651と優位水準5%より大きい。よって帰無仮説は棄却されない。<br>\n",
    "-> 差は無い"
   ]
  },
  {
   "cell_type": "code",
   "execution_count": 14,
   "metadata": {},
   "outputs": [
    {
     "data": {
      "text/plain": [
       "<matplotlib.legend.Legend at 0x19d26e05bb0>"
      ]
     },
     "execution_count": 14,
     "metadata": {},
     "output_type": "execute_result"
    },
    {
     "data": {
      "image/png": "[encoded data removed]",
      "text/plain": [
       "<Figure size 720x432 with 1 Axes>"
      ]
     },
     "metadata": {
      "needs_background": "light"
     },
     "output_type": "display_data"
    }
   ],
   "source": [
    "# t分布サンプリング\n",
    "t_range = np.linspace(-5,5,200)\n",
    "t_value_ar = []\n",
    "for i in t_range:\n",
    "    t_value_ar.append(stats.t.pdf(x=i, df=len(values1)-1))\n",
    "\n",
    "# plot\n",
    "fig, ax = plt.subplots(figsize=(10,6))\n",
    "ax.plot(t_range, t_value_ar, label=\"t distribution\\ndf={}\".format(len(values1)-1))\n",
    "# t value\n",
    "ax.axvline(x=0.679, ymin=0, ymax=1, color=\"red\", lw=3, linestyle=\"-\", alpha=0.5, label=\"t value\")\n",
    "ax.set_xlabel(\"t value\")\n",
    "ax.legend()"
   ]
  },
  {
   "cell_type": "markdown",
   "metadata": {},
   "source": [
    "### (7) 効果量を計算する。\n",
    "- 検定の結果が優位であれば、効果量を計算し意義を評価する。<br>"
   ]
  },
  {
   "attachments": {},
   "cell_type": "markdown",
   "metadata": {},
   "source": [
    "### 判定\n",
    "結果は優位でないため、評価無し。<br>"
   ]
  },
  {
   "cell_type": "markdown",
   "metadata": {},
   "source": []
  }
 ],
 "metadata": {
  "kernelspec": {
   "display_name": "Python 3",
   "language": "python",
   "name": "python3"
  },
  "language_info": {
   "codemirror_mode": {
    "name": "ipython",
    "version": 3
   },
   "file_extension": ".py",
   "mimetype": "text/x-python",
   "name": "python",
   "nbconvert_exporter": "python",
   "pygments_lexer": "ipython3",
   "version": "3.9.7"
  },
  "orig_nbformat": 4
 },
 "nbformat": 4,
 "nbformat_minor": 2
}
