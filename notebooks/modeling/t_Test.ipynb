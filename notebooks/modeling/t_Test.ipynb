{
 "cells": [
  {
   "attachments": {},
   "cell_type": "markdown",
   "metadata": {},
   "source": [
    "## 1標本のt検定"
   ]
  },
  {
   "cell_type": "code",
   "execution_count": 1,
   "metadata": {},
   "outputs": [],
   "source": [
    "import os\n",
    "import sys\n",
    "sys.path.append(\"../../scripts\")\n",
    "import warnings\n",
    "warnings.simplefilter('ignore')\n",
    "\n",
    "# Libraries\n",
    "import pandas as pd\n",
    "import numpy as np\n",
    "np.random.seed(111)\n",
    "\n",
    "# scipy\n",
    "from scipy import stats\n",
    "# graph\n",
    "import matplotlib.pyplot as plt\n",
    "import seaborn as sns\n",
    "\n",
    "import random\n",
    "random.seed(111)\n",
    "\n",
    "# scripts\n",
    "import utils as u"
   ]
  },
  {
   "cell_type": "code",
   "execution_count": 2,
   "metadata": {},
   "outputs": [],
   "source": [
    "# graph setting\n",
    "u.graph_setting()"
   ]
  },
  {
   "attachments": {},
   "cell_type": "markdown",
   "metadata": {},
   "source": [
    "### データセット"
   ]
  },
  {
   "cell_type": "code",
   "execution_count": 3,
   "metadata": {},
   "outputs": [
    {
     "data": {
      "text/html": [
       "<div>\n",
       "<style scoped>\n",
       "    .dataframe tbody tr th:only-of-type {\n",
       "        vertical-align: middle;\n",
       "    }\n",
       "\n",
       "    .dataframe tbody tr th {\n",
       "        vertical-align: top;\n",
       "    }\n",
       "\n",
       "    .dataframe thead th {\n",
       "        text-align: right;\n",
       "    }\n",
       "</style>\n",
       "<table border=\"1\" class=\"dataframe\">\n",
       "  <thead>\n",
       "    <tr style=\"text-align: right;\">\n",
       "      <th></th>\n",
       "      <th>sepal length (cm)</th>\n",
       "      <th>sepal width (cm)</th>\n",
       "      <th>petal length (cm)</th>\n",
       "      <th>petal width (cm)</th>\n",
       "      <th>target</th>\n",
       "    </tr>\n",
       "  </thead>\n",
       "  <tbody>\n",
       "    <tr>\n",
       "      <th>0</th>\n",
       "      <td>5.1</td>\n",
       "      <td>3.5</td>\n",
       "      <td>1.4</td>\n",
       "      <td>0.2</td>\n",
       "      <td>setosa</td>\n",
       "    </tr>\n",
       "    <tr>\n",
       "      <th>1</th>\n",
       "      <td>4.9</td>\n",
       "      <td>3.0</td>\n",
       "      <td>1.4</td>\n",
       "      <td>0.2</td>\n",
       "      <td>setosa</td>\n",
       "    </tr>\n",
       "    <tr>\n",
       "      <th>2</th>\n",
       "      <td>4.7</td>\n",
       "      <td>3.2</td>\n",
       "      <td>1.3</td>\n",
       "      <td>0.2</td>\n",
       "      <td>setosa</td>\n",
       "    </tr>\n",
       "    <tr>\n",
       "      <th>3</th>\n",
       "      <td>4.6</td>\n",
       "      <td>3.1</td>\n",
       "      <td>1.5</td>\n",
       "      <td>0.2</td>\n",
       "      <td>setosa</td>\n",
       "    </tr>\n",
       "    <tr>\n",
       "      <th>4</th>\n",
       "      <td>5.0</td>\n",
       "      <td>3.6</td>\n",
       "      <td>1.4</td>\n",
       "      <td>0.2</td>\n",
       "      <td>setosa</td>\n",
       "    </tr>\n",
       "  </tbody>\n",
       "</table>\n",
       "</div>"
      ],
      "text/plain": [
       "   sepal length (cm)  sepal width (cm)  petal length (cm)  petal width (cm)   \n",
       "0                5.1               3.5                1.4               0.2  \\\n",
       "1                4.9               3.0                1.4               0.2   \n",
       "2                4.7               3.2                1.3               0.2   \n",
       "3                4.6               3.1                1.5               0.2   \n",
       "4                5.0               3.6                1.4               0.2   \n",
       "\n",
       "   target  \n",
       "0  setosa  \n",
       "1  setosa  \n",
       "2  setosa  \n",
       "3  setosa  \n",
       "4  setosa  "
      ]
     },
     "execution_count": 3,
     "metadata": {},
     "output_type": "execute_result"
    }
   ],
   "source": [
    "# scikit-learnに用意されている、アヤメのデータセットを使う\n",
    "from sklearn.datasets import load_iris\n",
    "iris = load_iris()\n",
    "\n",
    "# irisのデータセットは、辞書型で格納されているので、扱いやすいようにpandasのデータフレームに変換する。\n",
    "# 各特徴データ\n",
    "df = pd.DataFrame(iris.data, columns=iris.feature_names)\n",
    "# ラベル, 種類のデータ。各数値ラベルを名前に置き換えて加える。\n",
    "df[\"target\"] = [iris.target_names[t] for t in iris.target]\n",
    "\n",
    "df.head()"
   ]
  },
  {
   "cell_type": "code",
   "execution_count": 4,
   "metadata": {},
   "outputs": [
    {
     "data": {
      "text/plain": [
       "array([5.5, 4.8, 5.4, 4.9, 5.4, 4.7, 5.1, 5.1, 5.1, 5. ])"
      ]
     },
     "execution_count": 4,
     "metadata": {},
     "output_type": "execute_result"
    }
   ],
   "source": [
    "# データセットの準備\n",
    "# 'setosa'のデータを20サンプル抽出\n",
    "df_setosa = df[df[\"target\"]==\"setosa\"].sample(10, random_state=111).reset_index(drop=True)\n",
    "\n",
    "# sampling values\n",
    "values = df_setosa[\"sepal length (cm)\"].values\n",
    "values"
   ]
  },
  {
   "cell_type": "markdown",
   "metadata": {},
   "source": [
    "### 問題設定"
   ]
  },
  {
   "attachments": {},
   "cell_type": "markdown",
   "metadata": {},
   "source": [
    "- ある花畑での'setosa'の'sepal length(cm)'の平均は、5cmであるとされている。<br>\n",
    "- 取得したデータはある1区画のデータとし、その内10本無作為抽出したものとする。<br>\n",
    "- 全体の平均値に対して差があるといえるか？を統計的に検定する。<br>\n",
    "\n",
    "帰無仮説：'setosa'の'sepal length'は5cmで全体平均と変わらない。<br>\n",
    "対立仮説：5cmと異なる。<br>\n",
    "優位水準α=5%(両側)とし判断する。<br>"
   ]
  },
  {
   "attachments": {},
   "cell_type": "markdown",
   "metadata": {},
   "source": [
    "### データをグラフ確認"
   ]
  },
  {
   "cell_type": "code",
   "execution_count": 9,
   "metadata": {},
   "outputs": [
    {
     "data": {
      "text/plain": [
       "(4.6000000000000005, 5.6)"
      ]
     },
     "execution_count": 9,
     "metadata": {},
     "output_type": "execute_result"
    },
    {
     "data": {
      "image/png": "[encoded data removed]",
      "text/plain": [
       "<Figure size 720x432 with 1 Axes>"
      ]
     },
     "metadata": {
      "needs_background": "light"
     },
     "output_type": "display_data"
    }
   ],
   "source": [
    "# boxplot\n",
    "plt.figure(figsize=(10,6))\n",
    "\n",
    "sns.distplot(values, bins=np.arange(np.min(values)-0.1, np.max(values)+0.1, 0.1), kde=False)\n",
    "plt.xlabel(\"sepal length (cm)\")\n",
    "plt.xlim([np.min(values)-0.1, np.max(values)+0.1])"
   ]
  },
  {
   "attachments": {},
   "cell_type": "markdown",
   "metadata": {},
   "source": [
    "### (1)統計量を求めながらt値を計算する"
   ]
  },
  {
   "cell_type": "code",
   "execution_count": 7,
   "metadata": {},
   "outputs": [],
   "source": [
    "# Function\n",
    "def calc_tvalue(values:list, mean:float)->float:\n",
    "    '''\n",
    "    tを計算する\n",
    "\n",
    "    Args\n",
    "        values (list) : 計算対象の1次元リスト。numpy.arrayやpandas.Seriesも可\n",
    "\n",
    "    Return\n",
    "        t : 計算されたt値を返す。\n",
    "    '''\n",
    "\n",
    "    # calc mean\n",
    "    m = np.mean(values)\n",
    "    # calc std, 不偏標本標準偏差を使う\n",
    "    s = np.std(values, ddof=1)\n",
    "    # dataset count\n",
    "    n = len(values)\n",
    "\n",
    "    # calc standard error\n",
    "    se = s / np.sqrt(n)\n",
    "\n",
    "    # t value\n",
    "    t = (m-mean) / se\n",
    "\n",
    "    return t"
   ]
  },
  {
   "cell_type": "code",
   "execution_count": 8,
   "metadata": {},
   "outputs": [
    {
     "data": {
      "text/plain": [
       "1.1858541225631483"
      ]
     },
     "execution_count": 8,
     "metadata": {},
     "output_type": "execute_result"
    }
   ],
   "source": [
    "# calculate t value\n",
    "t = calc_tvalue(values=values, mean=5.0)\n",
    "t"
   ]
  },
  {
   "cell_type": "code",
   "execution_count": 22,
   "metadata": {},
   "outputs": [
    {
     "name": "stdout",
     "output_type": "stream",
     "text": [
      "2.433440211374214\n"
     ]
    }
   ],
   "source": [
    "# 両側信頼係数のt値を求める。\n",
    "\n",
    "# 自由度\n",
    "d = 19\n",
    "# 片側優位水準\n",
    "alpha = 0.025\n",
    "\n",
    "# scipy.statsを使って計算する。\n",
    "t_thre = stats.t.ppf(1 - alpha/2, d)\n",
    "print(t_thre)"
   ]
  },
  {
   "attachments": {},
   "cell_type": "markdown",
   "metadata": {},
   "source": [
    "### 判定\n",
    "- t値は1.185で、優位水準5%の片側2.5%点の値2.433より小さい。よって帰無仮説は棄却されない。<br>\n",
    "-> 差は無い"
   ]
  },
  {
   "attachments": {},
   "cell_type": "markdown",
   "metadata": {},
   "source": [
    "### (2) scipy.stats.ttest_1samp()関数を使って計算する。"
   ]
  },
  {
   "cell_type": "code",
   "execution_count": 18,
   "metadata": {},
   "outputs": [
    {
     "data": {
      "text/plain": [
       "(1.1858541225631483, 0.2660426577404661)"
      ]
     },
     "execution_count": 18,
     "metadata": {},
     "output_type": "execute_result"
    }
   ],
   "source": [
    "t_value, p_value = stats.ttest_1samp(a=values, popmean=5.0, alternative=\"two-sided\", )\n",
    "t_value, p_value"
   ]
  },
  {
   "cell_type": "markdown",
   "metadata": {},
   "source": [
    "### 判定\n",
    "- p値は0.266と優位水準5%より大きい。よって帰無仮説は棄却されない。<br>\n",
    "-> 差は無い"
   ]
  },
  {
   "attachments": {},
   "cell_type": "markdown",
   "metadata": {},
   "source": [
    "### グラフ確認\n",
    "自由度19のt分布表を見て、値の関係をイメージする。"
   ]
  },
  {
   "cell_type": "code",
   "execution_count": 12,
   "metadata": {},
   "outputs": [
    {
     "data": {
      "text/plain": [
       "<matplotlib.legend.Legend at 0x201c36308e0>"
      ]
     },
     "execution_count": 12,
     "metadata": {},
     "output_type": "execute_result"
    },
    {
     "data": {
      "image/png": "[encoded data removed]",
      "text/plain": [
       "<Figure size 720x432 with 1 Axes>"
      ]
     },
     "metadata": {
      "needs_background": "light"
     },
     "output_type": "display_data"
    }
   ],
   "source": [
    "# t分布サンプリング\n",
    "t_range = np.linspace(-5,5,200)\n",
    "t_value_ar = []\n",
    "for i in t_range:\n",
    "    t_value_ar.append(stats.t.pdf(x=i, df=len(values)-1))\n",
    "\n",
    "# plot\n",
    "plt.figure(figsize=(10,6))\n",
    "plt.plot(t_range, t_value_ar, label=\"t distribution\")\n",
    "plt.xlabel(\"t value\")\n",
    "plt.legend()"
   ]
  },
  {
   "cell_type": "code",
   "execution_count": null,
   "metadata": {},
   "outputs": [],
   "source": []
  }
 ],
 "metadata": {
  "kernelspec": {
   "display_name": "Python 3",
   "language": "python",
   "name": "python3"
  },
  "language_info": {
   "codemirror_mode": {
    "name": "ipython",
    "version": 3
   },
   "file_extension": ".py",
   "mimetype": "text/x-python",
   "name": "python",
   "nbconvert_exporter": "python",
   "pygments_lexer": "ipython3",
   "version": "3.9.7"
  },
  "orig_nbformat": 4
 },
 "nbformat": 4,
 "nbformat_minor": 2
}
