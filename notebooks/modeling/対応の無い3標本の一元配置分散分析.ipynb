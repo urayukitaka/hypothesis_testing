{
 "cells": [
  {
   "attachments": {},
   "cell_type": "markdown",
   "metadata": {},
   "source": [
    "## 対応の無い3標本以上の一元配置分散分析の事例\n",
    "\n",
    "異なる母集団から無作為抽出された3つ以上の標本にてついて、標本平均が等しいかどうか？を検定する。"
   ]
  },
  {
   "attachments": {},
   "cell_type": "markdown",
   "metadata": {},
   "source": [
    "### (0)事前準備"
   ]
  },
  {
   "cell_type": "code",
   "execution_count": 1,
   "metadata": {},
   "outputs": [],
   "source": [
    "# ライブラリ\n",
    "import os\n",
    "import sys\n",
    "sys.path.append(\"../../scripts\")\n",
    "import warnings\n",
    "warnings.simplefilter('ignore')\n",
    "import pandas as pd\n",
    "import numpy as np\n",
    "np.random.seed(111)\n",
    "import random\n",
    "random.seed(111)\n",
    "\n",
    "# scipy\n",
    "from scipy import stats\n",
    "# graph\n",
    "import matplotlib.pyplot as plt\n",
    "import seaborn as sns\n",
    "\n",
    "# scripts\n",
    "import utils as u\n",
    "# graph setting\n",
    "u.graph_setting()"
   ]
  },
  {
   "attachments": {},
   "cell_type": "markdown",
   "metadata": {},
   "source": [
    "### (0) テーマのためのデータセット"
   ]
  },
  {
   "cell_type": "code",
   "execution_count": 3,
   "metadata": {},
   "outputs": [
    {
     "data": {
      "text/html": [
       "<div>\n",
       "<style scoped>\n",
       "    .dataframe tbody tr th:only-of-type {\n",
       "        vertical-align: middle;\n",
       "    }\n",
       "\n",
       "    .dataframe tbody tr th {\n",
       "        vertical-align: top;\n",
       "    }\n",
       "\n",
       "    .dataframe thead th {\n",
       "        text-align: right;\n",
       "    }\n",
       "</style>\n",
       "<table border=\"1\" class=\"dataframe\">\n",
       "  <thead>\n",
       "    <tr style=\"text-align: right;\">\n",
       "      <th></th>\n",
       "      <th>alcohol</th>\n",
       "      <th>malic_acid</th>\n",
       "      <th>ash</th>\n",
       "      <th>alcalinity_of_ash</th>\n",
       "      <th>magnesium</th>\n",
       "      <th>total_phenols</th>\n",
       "      <th>flavanoids</th>\n",
       "      <th>nonflavanoid_phenols</th>\n",
       "      <th>proanthocyanins</th>\n",
       "      <th>color_intensity</th>\n",
       "      <th>hue</th>\n",
       "      <th>od280/od315_of_diluted_wines</th>\n",
       "      <th>proline</th>\n",
       "      <th>target</th>\n",
       "    </tr>\n",
       "  </thead>\n",
       "  <tbody>\n",
       "    <tr>\n",
       "      <th>0</th>\n",
       "      <td>14.23</td>\n",
       "      <td>1.71</td>\n",
       "      <td>2.43</td>\n",
       "      <td>15.6</td>\n",
       "      <td>127.0</td>\n",
       "      <td>2.80</td>\n",
       "      <td>3.06</td>\n",
       "      <td>0.28</td>\n",
       "      <td>2.29</td>\n",
       "      <td>5.64</td>\n",
       "      <td>1.04</td>\n",
       "      <td>3.92</td>\n",
       "      <td>1065.0</td>\n",
       "      <td>class_0</td>\n",
       "    </tr>\n",
       "    <tr>\n",
       "      <th>1</th>\n",
       "      <td>13.20</td>\n",
       "      <td>1.78</td>\n",
       "      <td>2.14</td>\n",
       "      <td>11.2</td>\n",
       "      <td>100.0</td>\n",
       "      <td>2.65</td>\n",
       "      <td>2.76</td>\n",
       "      <td>0.26</td>\n",
       "      <td>1.28</td>\n",
       "      <td>4.38</td>\n",
       "      <td>1.05</td>\n",
       "      <td>3.40</td>\n",
       "      <td>1050.0</td>\n",
       "      <td>class_0</td>\n",
       "    </tr>\n",
       "    <tr>\n",
       "      <th>2</th>\n",
       "      <td>13.16</td>\n",
       "      <td>2.36</td>\n",
       "      <td>2.67</td>\n",
       "      <td>18.6</td>\n",
       "      <td>101.0</td>\n",
       "      <td>2.80</td>\n",
       "      <td>3.24</td>\n",
       "      <td>0.30</td>\n",
       "      <td>2.81</td>\n",
       "      <td>5.68</td>\n",
       "      <td>1.03</td>\n",
       "      <td>3.17</td>\n",
       "      <td>1185.0</td>\n",
       "      <td>class_0</td>\n",
       "    </tr>\n",
       "    <tr>\n",
       "      <th>3</th>\n",
       "      <td>14.37</td>\n",
       "      <td>1.95</td>\n",
       "      <td>2.50</td>\n",
       "      <td>16.8</td>\n",
       "      <td>113.0</td>\n",
       "      <td>3.85</td>\n",
       "      <td>3.49</td>\n",
       "      <td>0.24</td>\n",
       "      <td>2.18</td>\n",
       "      <td>7.80</td>\n",
       "      <td>0.86</td>\n",
       "      <td>3.45</td>\n",
       "      <td>1480.0</td>\n",
       "      <td>class_0</td>\n",
       "    </tr>\n",
       "    <tr>\n",
       "      <th>4</th>\n",
       "      <td>13.24</td>\n",
       "      <td>2.59</td>\n",
       "      <td>2.87</td>\n",
       "      <td>21.0</td>\n",
       "      <td>118.0</td>\n",
       "      <td>2.80</td>\n",
       "      <td>2.69</td>\n",
       "      <td>0.39</td>\n",
       "      <td>1.82</td>\n",
       "      <td>4.32</td>\n",
       "      <td>1.04</td>\n",
       "      <td>2.93</td>\n",
       "      <td>735.0</td>\n",
       "      <td>class_0</td>\n",
       "    </tr>\n",
       "  </tbody>\n",
       "</table>\n",
       "</div>"
      ],
      "text/plain": [
       "   alcohol  malic_acid   ash  alcalinity_of_ash  magnesium  total_phenols   \n",
       "0    14.23        1.71  2.43               15.6      127.0           2.80  \\\n",
       "1    13.20        1.78  2.14               11.2      100.0           2.65   \n",
       "2    13.16        2.36  2.67               18.6      101.0           2.80   \n",
       "3    14.37        1.95  2.50               16.8      113.0           3.85   \n",
       "4    13.24        2.59  2.87               21.0      118.0           2.80   \n",
       "\n",
       "   flavanoids  nonflavanoid_phenols  proanthocyanins  color_intensity   hue   \n",
       "0        3.06                  0.28             2.29             5.64  1.04  \\\n",
       "1        2.76                  0.26             1.28             4.38  1.05   \n",
       "2        3.24                  0.30             2.81             5.68  1.03   \n",
       "3        3.49                  0.24             2.18             7.80  0.86   \n",
       "4        2.69                  0.39             1.82             4.32  1.04   \n",
       "\n",
       "   od280/od315_of_diluted_wines  proline   target  \n",
       "0                          3.92   1065.0  class_0  \n",
       "1                          3.40   1050.0  class_0  \n",
       "2                          3.17   1185.0  class_0  \n",
       "3                          3.45   1480.0  class_0  \n",
       "4                          2.93    735.0  class_0  "
      ]
     },
     "execution_count": 3,
     "metadata": {},
     "output_type": "execute_result"
    }
   ],
   "source": [
    "# scikit-learnに用意されている、Wineのデータセットを使う\n",
    "from sklearn.datasets import load_wine\n",
    "wine = load_wine()\n",
    "\n",
    "# wineのデータセットは、辞書型で格納されているので、扱いやすいようにpandasのデータフレームに変換する。\n",
    "# 各特徴データ\n",
    "df = pd.DataFrame(wine.data, columns=wine.feature_names)\n",
    "# ラベル, 種類のデータ。各数値ラベルを名前に置き換えて加える。\n",
    "df[\"target\"] = [wine.target_names[t] for t in wine.target]\n",
    "\n",
    "df.head()"
   ]
  },
  {
   "cell_type": "code",
   "execution_count": 9,
   "metadata": {},
   "outputs": [
    {
     "name": "stdout",
     "output_type": "stream",
     "text": [
      "Sample1 count = 59\n",
      "Sample2 count = 71\n",
      "Sample3 count = 48\n"
     ]
    },
    {
     "data": {
      "text/plain": [
       "(array([14.23, 13.2 , 13.16, 14.37, 13.24, 14.2 , 14.39, 14.06, 14.83,\n",
       "        13.86, 14.1 , 14.12, 13.75, 14.75, 14.38, 13.63, 14.3 , 13.83,\n",
       "        14.19, 13.64, 14.06, 12.93, 13.71, 12.85, 13.5 , 13.05, 13.39,\n",
       "        13.3 , 13.87, 14.02, 13.73, 13.58, 13.68, 13.76, 13.51, 13.48,\n",
       "        13.28, 13.05, 13.07, 14.22, 13.56, 13.41, 13.88, 13.24, 13.05,\n",
       "        14.21, 14.38, 13.9 , 14.1 , 13.94, 13.05, 13.83, 13.82, 13.77,\n",
       "        13.74, 13.56, 14.22, 13.29, 13.72]),\n",
       " array([12.37, 12.33, 12.64, 13.67, 12.37, 12.17, 12.37, 13.11, 12.37,\n",
       "        13.34, 12.21, 12.29, 13.86, 13.49, 12.99, 11.96, 11.66, 13.03,\n",
       "        11.84, 12.33, 12.7 , 12.  , 12.72, 12.08, 13.05, 11.84, 12.67,\n",
       "        12.16, 11.65, 11.64, 12.08, 12.08, 12.  , 12.69, 12.29, 11.62,\n",
       "        12.47, 11.81, 12.29, 12.37, 12.29, 12.08, 12.6 , 12.34, 11.82,\n",
       "        12.51, 12.42, 12.25, 12.72, 12.22, 11.61, 11.46, 12.52, 11.76,\n",
       "        11.41, 12.08, 11.03, 11.82, 12.42, 12.77, 12.  , 11.45, 11.56,\n",
       "        12.42, 13.05, 11.87, 12.07, 12.43, 11.79, 12.37, 12.04]),\n",
       " array([12.86, 12.88, 12.81, 12.7 , 12.51, 12.6 , 12.25, 12.53, 13.49,\n",
       "        12.84, 12.93, 13.36, 13.52, 13.62, 12.25, 13.16, 13.88, 12.87,\n",
       "        13.32, 13.08, 13.5 , 12.79, 13.11, 13.23, 12.58, 13.17, 13.84,\n",
       "        12.45, 14.34, 13.48, 12.36, 13.69, 12.85, 12.96, 13.78, 13.73,\n",
       "        13.45, 12.82, 13.58, 13.4 , 12.2 , 12.77, 14.16, 13.71, 13.4 ,\n",
       "        13.27, 13.17, 14.13]))"
      ]
     },
     "execution_count": 9,
     "metadata": {},
     "output_type": "execute_result"
    }
   ],
   "source": [
    "# データセットの準備\n",
    "\n",
    "# dataset 1, and 2 and 3 sample\n",
    "values1 = df[df[\"target\"]==\"class_0\"][\"alcohol\"].values\n",
    "values2 = df[df[\"target\"]==\"class_1\"][\"alcohol\"].values\n",
    "values3 = df[df[\"target\"]==\"class_2\"][\"alcohol\"].values\n",
    "\n",
    "print(f\"Sample1 count = {len(values1)}\")\n",
    "print(f\"Sample2 count = {len(values2)}\")\n",
    "print(f\"Sample3 count = {len(values3)}\")\n",
    "values1, values2, values3"
   ]
  },
  {
   "attachments": {},
   "cell_type": "markdown",
   "metadata": {},
   "source": [
    "### (0) データを確認"
   ]
  },
  {
   "cell_type": "code",
   "execution_count": 6,
   "metadata": {},
   "outputs": [
    {
     "data": {
      "text/plain": [
       "<matplotlib.legend.Legend at 0x2497f287ca0>"
      ]
     },
     "execution_count": 6,
     "metadata": {},
     "output_type": "execute_result"
    },
    {
     "data": {
      "image/png": "[encoded data removed]",
      "text/plain": [
       "<Figure size 720x432 with 1 Axes>"
      ]
     },
     "metadata": {
      "needs_background": "light"
     },
     "output_type": "display_data"
    }
   ],
   "source": [
    "# ヒストグラム\n",
    "fig, ax = plt.subplots(figsize=(10,6))\n",
    "\n",
    "sns.distplot(values1, bins=np.arange(np.min(values1)-1, np.max(values1)+1, 0.1), kde=False, ax=ax, label=f\"Sample1_{np.mean(values1)}\")\n",
    "sns.distplot(values2, bins=np.arange(np.min(values2)-1, np.max(values2)+1, 0.1), kde=False, ax=ax, label=f\"Sample2_{np.mean(values2)}\")\n",
    "sns.distplot(values3, bins=np.arange(np.min(values2)-1, np.max(values2)+1, 0.1), kde=False, ax=ax, label=f\"Sample2_{np.mean(values2)}\")\n",
    "ax.set_xlabel(\"weight\")\n",
    "ax.set_ylabel('Frequency')\n",
    "ax.legend()"
   ]
  },
  {
   "cell_type": "code",
   "execution_count": 8,
   "metadata": {},
   "outputs": [
    {
     "name": "stderr",
     "output_type": "stream",
     "text": [
      "No artists with labels found to put in legend.  Note that artists whose label start with an underscore are ignored when legend() is called with no argument.\n"
     ]
    },
    {
     "data": {
      "text/plain": [
       "<matplotlib.legend.Legend at 0x2497f2c4e80>"
      ]
     },
     "execution_count": 8,
     "metadata": {},
     "output_type": "execute_result"
    },
    {
     "data": {
      "image/png": "[encoded data removed]",
      "text/plain": [
       "<Figure size 720x432 with 1 Axes>"
      ]
     },
     "metadata": {
      "needs_background": "light"
     },
     "output_type": "display_data"
    }
   ],
   "source": [
    "# box plot\n",
    "fig, ax = plt.subplots(figsize=(10,6))\n",
    "\n",
    "data = pd.concat([\n",
    "       pd.DataFrame({\"Sample\":[\"Sample1\" for i in range(len(values1))],\n",
    "                     \"Values\":values1}),\n",
    "       pd.DataFrame({\"Sample\":[\"Sample2\" for i in range(len(values2))],\n",
    "                     \"Values\":values2}),\n",
    "       pd.DataFrame({\"Sample\":[\"Sample3\" for i in range(len(values3))],\n",
    "                     \"Values\":values3})\n",
    "       ]).reset_index(drop=True)\n",
    "\n",
    "sns.boxplot(data=data, x=\"Sample\", y=\"Values\")\n",
    "ax.set_xlabel(\"Sample group\")\n",
    "ax.set_ylabel(\"class\")\n",
    "ax.legend()"
   ]
  },
  {
   "attachments": {},
   "cell_type": "markdown",
   "metadata": {},
   "source": [
    "### (0) 想定する分析シーン\n",
    "\n",
    "- Wineの種類別3つののアルコール度数を調べる。<br>\n",
    "- それぞれのアルコール度数の平均値に差があるといえるか？を統計的に検定する。<br>"
   ]
  },
  {
   "attachments": {},
   "cell_type": "markdown",
   "metadata": {},
   "source": [
    "### (1) 問題設定\n",
    "- 帰無仮説$H_0$と対立仮説$H_1$を定義する。<br>"
   ]
  },
  {
   "attachments": {},
   "cell_type": "markdown",
   "metadata": {},
   "source": [
    "帰無仮説$H_0$：3種のアルコール度数の平均値は変わらない。<br>\n",
    "対立仮説$H_1$：3種のうち1つ以上の平均値が異なる。<br>"
   ]
  },
  {
   "attachments": {},
   "cell_type": "markdown",
   "metadata": {},
   "source": [
    "### (2) 適切な検定方法を選択する。\n",
    "- 検定の目的、データの確認結果、サンプル数から適切な検定方法を選択する。<br>"
   ]
  },
  {
   "attachments": {},
   "cell_type": "markdown",
   "metadata": {},
   "source": [
    "1. 検定の目的<br>\n",
    "-> 3つの異なる母集団から、それぞれ無作為抽出された3つの標本グループについて、その標本平均が等しいかどうか？を検定する。\n",
    "\n",
    "2. データの確認 (ただし本分析においては仮定を置いたものとする。)<br>\n",
    "    2-1. 正規性の仮定<br>\n",
    "        -> 母集団は正規分布に従っている。<br>\n",
    "    2-2. 独立性の仮定<br>\n",
    "        -> 母集団内の個体同士は互いに独立している。<br>\n",
    "    2-3. 等分散性の仮定<br>\n",
    "        ->バートレット検定により、等分散性を検定する。<br>\n",
    "\n",
    "3. サンプル数の確認<br>\n",
    "    サンプル数：$n_1$=59, $n_2$=71, $n_3$=48<br>\n",
    "        ->標本群30サンプル以上であり十分なサンプル数がある。分布の平均値やばらつきが妥当性もって評価できると考えた。"
   ]
  },
  {
   "attachments": {},
   "cell_type": "markdown",
   "metadata": {},
   "source": [
    "*2-3の等分散性の仮定の確認<br>\n",
    "\n",
    "バートレット検定<br>\n",
    "複数の群の母分散が等しいかどうかを検定する。方法論は、<br>\n",
    "(1)各群の標本分散を求める。<br>\n",
    "(2)各群の分散を元に、バートレットの統計量を計算する。<br>\n",
    "$K^2 = (N - k) \\cdot \\ln(s_p^2) - \\sum_{i=1}^{k} [(n_i - 1) \\cdot \\ln(s_i^2)]$<br>\n",
    "(3)統計量とカイ二乗分布(自由度は群数-1)を用いて、p値を求める。<br>\n",
    "(4)p値が事前に設定した優位水準より小さい場合、母分散が等しいという帰無仮説を棄却し、等分散性が満たされていないと判断する。<br>\n",
    "\n",
    "ここでは、上記計算をscipy.stats.bartlett()関数を用いて検定する。\n"
   ]
  },
  {
   "cell_type": "code",
   "execution_count": 10,
   "metadata": {},
   "outputs": [
    {
     "name": "stdout",
     "output_type": "stream",
     "text": [
      "Bartlett's test statistic: 1.5988399379720122\n",
      "p-value: 0.449589664451726\n"
     ]
    }
   ],
   "source": [
    "stat, p_value = stats.bartlett(values1, values2, values3)\n",
    "\n",
    "print(\"Bartlett's test statistic:\", stat)\n",
    "print(\"p-value:\", p_value)"
   ]
  },
  {
   "attachments": {},
   "cell_type": "markdown",
   "metadata": {},
   "source": [
    "バートレット検定の結果、p値は5%より大きく等分散という帰無仮説を棄却できない。よって\n",
    "\n",
    "### 検定方法：対応の無い一元配置分散分析を利用する。"
   ]
  },
  {
   "attachments": {},
   "cell_type": "markdown",
   "metadata": {},
   "source": [
    "### (3) 優位水準を定義する。\n",
    "- 優位と判断する水準を定義する。<br>"
   ]
  },
  {
   "attachments": {},
   "cell_type": "markdown",
   "metadata": {},
   "source": [
    "優位水準α=5%(両側)する。<br>"
   ]
  },
  {
   "attachments": {},
   "cell_type": "markdown",
   "metadata": {},
   "source": [
    "### (4) 検定統計量を計算する。\n",
    "- 選択した検定方法に基づいて、検定統計量を計算する。<br>"
   ]
  },
  {
   "attachments": {},
   "cell_type": "markdown",
   "metadata": {},
   "source": [
    "方法1) 書く統計量を求めつつ計算する。<br>\n",
    "\n",
    "F値の計算<br>\n",
    "\n",
    "因子間の分散(MSA) = $\\sum_{i=1}^{k} n_i(\\bar{Y_i} - \\bar{Y})^2/(k-1)$\n",
    "\n",
    "誤差の分散(MSE) = $\\sum_{i=1}^{k} \\sum_{j=1}^{n_i} (Y_{ij} - \\bar{Y_i})^2/(n-k)$\n",
    "\n",
    "F値 = 因子間の平均二乗(MSA) / 誤差の平均二乗(MSE)\n",
    "\n",
    "p値：F分布の確率密度関数に基づいて算出される。\n",
    "\n",
    "各変数<br>\n",
    "\n",
    "k：グループ数<br>\n",
    "n：観測値の総サンプル数<br>\n",
    "$n_i$：i番目のグループの観測値のサンプル数<br>\n",
    "$\\bar{Y_i}$：i番目のグループの平均値<br>\n",
    "$\\bar{Y}$：全体の平均値<br>\n",
    "Y：観測値<br>\n",
    "MSA：因子間の平均二乗。因子による群間平方和を自由度で割った値<br>\n",
    "MSE：誤差の平均二乗。残差による群内平方和を自由度で割った<br>"
   ]
  },
  {
   "cell_type": "code",
   "execution_count": 11,
   "metadata": {},
   "outputs": [],
   "source": [
    "# Function\n",
    "def calc_Fvalue(values1:list, values2:list, values3:list)->float:\n",
    "    '''\n",
    "    tを計算する\n",
    "\n",
    "    Args\n",
    "        values1 (list) : 標本1の計算対象の1次元リスト。numpy.arrayやpandas.Seriesも可\n",
    "        values2 (list) : 標本1の計算対象の1次元リスト。numpy.arrayやpandas.Seriesも可\n",
    "        values3 (list) : 標本1の計算対象の1次元リスト。numpy.arrayやpandas.Seriesも可\n",
    "\n",
    "    Return\n",
    "        F : 計算されたF値を返す。\n",
    "    '''\n",
    "\n",
    "    # calc mean\n",
    "    # each mean value\n",
    "    m_1, m_2, m_3 = np.mean(values1), np.mean(values2), np.mean(values3)\n",
    "    # total mean value\n",
    "    m_t = np.mean(np.concatenate([values1, values2, values3]))\n",
    "    # count value\n",
    "    n_1, n_2, n_3 = len(values1), len(values2), len(values3)\n",
    "\n",
    "    # 群間平方和の計算\n",
    "    SSA = n_1*(m_1-m_t)**2 + n_2*(m_2-m_t)**2 + n_3*(m_3-m_t)**2\n",
    "\n",
    "    # 群内平方和の計算\n",
    "    SSE = np.sum(np.sum((values1-m_1)**2) + np.sum((values2-m_2)**2) + np.sum((values3-m_3)**2))\n",
    "\n",
    "    # 自由度\n",
    "    dfA = 2\n",
    "    dfE = n_1 + n_2 + n_3 - 3\n",
    "\n",
    "    # F値\n",
    "    MSA = SSA / dfA\n",
    "    MSE = SSE / dfE\n",
    "    F = MSA / MSE\n",
    "\n",
    "    # print each value\n",
    "    print(f\"SSA, SSE : {SSA}, {SSE}\")\n",
    "    print(f\"dfA, dfE : {SSA}, {SSE}\")\n",
    "    print(f\"MSA, MSE : {MSA}, {MSE}\")\n",
    "    print(f\"F value : {F}\")\n",
    "\n",
    "\n",
    "    return dfA, dfE, F"
   ]
  },
  {
   "cell_type": "code",
   "execution_count": 13,
   "metadata": {},
   "outputs": [
    {
     "name": "stdout",
     "output_type": "stream",
     "text": [
      "SSA, SSE : 70.79484992053865, 45.85918210193364\n",
      "dfA, dfE : 70.79484992053865, 45.85918210193364\n",
      "MSA, MSE : 35.397424960269326, 0.2620524691539065\n",
      "F value : 135.07762424280003\n",
      "F value threshold : 3.76774284482974\n"
     ]
    }
   ],
   "source": [
    "# calculate t value\n",
    "dfA, dfE, F = calc_Fvalue(values1=values1, values2=values2, values3=values3)\n",
    "\n",
    "# 両側信頼係数のF値を求める。\n",
    "# 自由度\n",
    "d = len(values1) - 1\n",
    "# 片側優位水準\n",
    "alpha = 0.05\n",
    "\n",
    "# scipy.statsを使って計算する。\n",
    "f_thre = stats.f.ppf(q=1 - alpha/2, dfn=dfA, dfd=dfE)\n",
    "print(f\"F value threshold : {f_thre}\")"
   ]
  },
  {
   "attachments": {},
   "cell_type": "markdown",
   "metadata": {},
   "source": [
    "2) scipy.stats.f_oneway()関数を使って計算する。"
   ]
  },
  {
   "cell_type": "code",
   "execution_count": 14,
   "metadata": {},
   "outputs": [
    {
     "name": "stdout",
     "output_type": "stream",
     "text": [
      "F value : 135.07762424279912\n"
     ]
    }
   ],
   "source": [
    "f_value, p_value = stats.f_oneway(values1, values2, values3)\n",
    "\n",
    "print(f\"F value : {f_value}\")"
   ]
  },
  {
   "attachments": {},
   "cell_type": "markdown",
   "metadata": {},
   "source": [
    "### (5) p値を計算する。\n",
    "- 検定統計量に基づいてp値を計算する。<br>"
   ]
  },
  {
   "cell_type": "code",
   "execution_count": 15,
   "metadata": {},
   "outputs": [
    {
     "name": "stdout",
     "output_type": "stream",
     "text": [
      "p value : 3.319503795619638e-36\n"
     ]
    }
   ],
   "source": [
    "print(f\"p value : {p_value}\")"
   ]
  },
  {
   "attachments": {},
   "cell_type": "markdown",
   "metadata": {},
   "source": [
    "### (6) 結果を解釈する。\n",
    "- p値と優位水準を比較して結果を解釈する。<br>\n",
    "p値≦$α$：帰無仮説を棄却し、対立仮説を採択する。<br>\n",
    "p値>$α$：帰無仮説を棄却できない"
   ]
  },
  {
   "attachments": {},
   "cell_type": "markdown",
   "metadata": {},
   "source": [
    "### 判定\n",
    "- p値はほぼゼロであり優位水準5%より小さい。よって帰無仮説は棄却されない。<br>\n",
    "-> 差はある"
   ]
  },
  {
   "cell_type": "code",
   "execution_count": 16,
   "metadata": {},
   "outputs": [
    {
     "data": {
      "text/plain": [
       "<matplotlib.legend.Legend at 0x2497f6dfbb0>"
      ]
     },
     "execution_count": 16,
     "metadata": {},
     "output_type": "execute_result"
    },
    {
     "data": {
      "image/png": "[encoded data removed]",
      "text/plain": [
       "<Figure size 720x432 with 1 Axes>"
      ]
     },
     "metadata": {
      "needs_background": "light"
     },
     "output_type": "display_data"
    }
   ],
   "source": [
    "# F分布サンプリング\n",
    "f_range = np.linspace(0,140,200)\n",
    "f_value_ar = []\n",
    "for i in f_range:\n",
    "    f_value_ar.append(stats.f.pdf(x=i, dfn=dfA, dfd=dfE))\n",
    "\n",
    "# plot\n",
    "fig, ax = plt.subplots(figsize=(10,6))\n",
    "ax.plot(f_range, f_value_ar, label=\"F distribution\\ndfA/dfE={}/{}\".format(dfA, dfE))\n",
    "ax.axvline(x=f_value, ymin=0, ymax=1, color=\"red\", lw=3, linestyle=\"-\", alpha=0.5, label=\"F value\")\n",
    "ax.set_xlabel(\"F value\")\n",
    "ax.legend()"
   ]
  },
  {
   "attachments": {},
   "cell_type": "markdown",
   "metadata": {},
   "source": [
    "### (7) 効果量を計算する。\n",
    "- 検定の結果が優位であれば、効果量を計算し意義を評価する。<br>"
   ]
  },
  {
   "attachments": {},
   "cell_type": "markdown",
   "metadata": {},
   "source": [
    "方法) $\\eta^2$で計算する。\n",
    "\n",
    "$\\eta^2$ : 効果(群間の差)が全体の変動(群内+群間の差)に占める割合。\n",
    "\n",
    "$\\eta^2 = \\frac{SS_{between}}{SS_{total}}$\n",
    "\n",
    "各変数は<br>\n",
    "$SS_{between}$: 群間の平方和<br>\n",
    "$SS_{total}$: 全体の平方和<br>\n",
    "\n",
    "$\\eta^2の値が大きいほど、効果量が大きいと判断する。<br>\n",
    "効果量の大きさの目安は、\n",
    "\n",
    "0.01: 小さい効果<br>\n",
    "0.06: 中くらいの効果<br>\n",
    "0.14: 大きい効果<br>"
   ]
  },
  {
   "cell_type": "code",
   "execution_count": 17,
   "metadata": {},
   "outputs": [],
   "source": [
    "# eta^2の計算関数\n",
    "def eta_sq(values1, values2, values3):\n",
    "    # calc mean\n",
    "    # each mean value\n",
    "    m_1, m_2, m_3 = np.mean(values1), np.mean(values2), np.mean(values3)\n",
    "    # total mean value\n",
    "    m_t = np.mean(np.concatenate([values1, values2, values3]))\n",
    "    # count value\n",
    "    n_1, n_2, n_3 = len(values1), len(values2), len(values3)\n",
    "\n",
    "    # 群間平方和の計算\n",
    "    SSA = n_1*(m_1-m_t)**2 + n_2*(m_2-m_t)**2 + n_3*(m_3-m_t)**2\n",
    "\n",
    "    # 全体平方和の計算\n",
    "    # 全体の平方和 (SS_total) を計算します\n",
    "    all_data = np.concatenate([values1, values2, values3])\n",
    "    SST = sum([(x - np.mean(all_data))**2 for x in all_data])\n",
    "\n",
    "    # η^2 を計算します\n",
    "    eta_squared = SSA / SST\n",
    "\n",
    "    return eta_squared"
   ]
  },
  {
   "cell_type": "code",
   "execution_count": 18,
   "metadata": {},
   "outputs": [
    {
     "name": "stdout",
     "output_type": "stream",
     "text": [
      "Cohen d values : 0.6068787224337082\n"
     ]
    }
   ],
   "source": [
    "etasq = eta_sq(values1, values2, values3)\n",
    "\n",
    "print(f\"Cohen d values : {etasq}\")"
   ]
  },
  {
   "cell_type": "markdown",
   "metadata": {},
   "source": [
    "### 判定\n",
    "$\\eta^2$は0.607と大きい。<br>\n",
    "-> よって大きい効果。"
   ]
  }
 ],
 "metadata": {
  "kernelspec": {
   "display_name": "Python 3",
   "language": "python",
   "name": "python3"
  },
  "language_info": {
   "codemirror_mode": {
    "name": "ipython",
    "version": 3
   },
   "file_extension": ".py",
   "mimetype": "text/x-python",
   "name": "python",
   "nbconvert_exporter": "python",
   "pygments_lexer": "ipython3",
   "version": "3.9.7"
  },
  "orig_nbformat": 4
 },
 "nbformat": 4,
 "nbformat_minor": 2
}
