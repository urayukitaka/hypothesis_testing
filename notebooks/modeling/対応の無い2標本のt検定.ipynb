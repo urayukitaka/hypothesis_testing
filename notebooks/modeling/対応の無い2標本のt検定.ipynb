{
 "cells": [
  {
   "attachments": {},
   "cell_type": "markdown",
   "metadata": {},
   "source": [
    "## 対応の無い2標本のt検定の事例\n",
    "\n",
    "異なる母集団から無作為抽出された2つの標本にてついて、標本平均が等しいかどうか？を検定する。"
   ]
  },
  {
   "attachments": {},
   "cell_type": "markdown",
   "metadata": {},
   "source": [
    "### (0)事前準備"
   ]
  },
  {
   "cell_type": "code",
   "execution_count": 1,
   "metadata": {},
   "outputs": [],
   "source": [
    "# ライブラリ\n",
    "import os\n",
    "import sys\n",
    "sys.path.append(\"../../scripts\")\n",
    "import warnings\n",
    "warnings.simplefilter('ignore')\n",
    "import pandas as pd\n",
    "import numpy as np\n",
    "np.random.seed(111)\n",
    "import random\n",
    "random.seed(111)\n",
    "\n",
    "# scipy\n",
    "from scipy import stats\n",
    "# graph\n",
    "import matplotlib.pyplot as plt\n",
    "import seaborn as sns\n",
    "\n",
    "# scripts\n",
    "import utils as u\n",
    "# graph setting\n",
    "u.graph_setting()"
   ]
  },
  {
   "attachments": {},
   "cell_type": "markdown",
   "metadata": {},
   "source": [
    "### (0) テーマのためのデータセット"
   ]
  },
  {
   "cell_type": "code",
   "execution_count": 2,
   "metadata": {},
   "outputs": [
    {
     "data": {
      "text/html": [
       "<div>\n",
       "<style scoped>\n",
       "    .dataframe tbody tr th:only-of-type {\n",
       "        vertical-align: middle;\n",
       "    }\n",
       "\n",
       "    .dataframe tbody tr th {\n",
       "        vertical-align: top;\n",
       "    }\n",
       "\n",
       "    .dataframe thead th {\n",
       "        text-align: right;\n",
       "    }\n",
       "</style>\n",
       "<table border=\"1\" class=\"dataframe\">\n",
       "  <thead>\n",
       "    <tr style=\"text-align: right;\">\n",
       "      <th></th>\n",
       "      <th>age</th>\n",
       "      <th>sex</th>\n",
       "      <th>bmi</th>\n",
       "      <th>bp</th>\n",
       "      <th>s1</th>\n",
       "      <th>s2</th>\n",
       "      <th>s3</th>\n",
       "      <th>s4</th>\n",
       "      <th>s5</th>\n",
       "      <th>s6</th>\n",
       "      <th>target</th>\n",
       "    </tr>\n",
       "  </thead>\n",
       "  <tbody>\n",
       "    <tr>\n",
       "      <th>0</th>\n",
       "      <td>0.038076</td>\n",
       "      <td>0.050680</td>\n",
       "      <td>0.061696</td>\n",
       "      <td>0.021872</td>\n",
       "      <td>-0.044223</td>\n",
       "      <td>-0.034821</td>\n",
       "      <td>-0.043401</td>\n",
       "      <td>-0.002592</td>\n",
       "      <td>0.019908</td>\n",
       "      <td>-0.017646</td>\n",
       "      <td>151.0</td>\n",
       "    </tr>\n",
       "    <tr>\n",
       "      <th>1</th>\n",
       "      <td>-0.001882</td>\n",
       "      <td>-0.044642</td>\n",
       "      <td>-0.051474</td>\n",
       "      <td>-0.026328</td>\n",
       "      <td>-0.008449</td>\n",
       "      <td>-0.019163</td>\n",
       "      <td>0.074412</td>\n",
       "      <td>-0.039493</td>\n",
       "      <td>-0.068330</td>\n",
       "      <td>-0.092204</td>\n",
       "      <td>75.0</td>\n",
       "    </tr>\n",
       "    <tr>\n",
       "      <th>2</th>\n",
       "      <td>0.085299</td>\n",
       "      <td>0.050680</td>\n",
       "      <td>0.044451</td>\n",
       "      <td>-0.005671</td>\n",
       "      <td>-0.045599</td>\n",
       "      <td>-0.034194</td>\n",
       "      <td>-0.032356</td>\n",
       "      <td>-0.002592</td>\n",
       "      <td>0.002864</td>\n",
       "      <td>-0.025930</td>\n",
       "      <td>141.0</td>\n",
       "    </tr>\n",
       "    <tr>\n",
       "      <th>3</th>\n",
       "      <td>-0.089063</td>\n",
       "      <td>-0.044642</td>\n",
       "      <td>-0.011595</td>\n",
       "      <td>-0.036656</td>\n",
       "      <td>0.012191</td>\n",
       "      <td>0.024991</td>\n",
       "      <td>-0.036038</td>\n",
       "      <td>0.034309</td>\n",
       "      <td>0.022692</td>\n",
       "      <td>-0.009362</td>\n",
       "      <td>206.0</td>\n",
       "    </tr>\n",
       "    <tr>\n",
       "      <th>4</th>\n",
       "      <td>0.005383</td>\n",
       "      <td>-0.044642</td>\n",
       "      <td>-0.036385</td>\n",
       "      <td>0.021872</td>\n",
       "      <td>0.003935</td>\n",
       "      <td>0.015596</td>\n",
       "      <td>0.008142</td>\n",
       "      <td>-0.002592</td>\n",
       "      <td>-0.031991</td>\n",
       "      <td>-0.046641</td>\n",
       "      <td>135.0</td>\n",
       "    </tr>\n",
       "  </tbody>\n",
       "</table>\n",
       "</div>"
      ],
      "text/plain": [
       "        age       sex       bmi        bp        s1        s2        s3   \n",
       "0  0.038076  0.050680  0.061696  0.021872 -0.044223 -0.034821 -0.043401  \\\n",
       "1 -0.001882 -0.044642 -0.051474 -0.026328 -0.008449 -0.019163  0.074412   \n",
       "2  0.085299  0.050680  0.044451 -0.005671 -0.045599 -0.034194 -0.032356   \n",
       "3 -0.089063 -0.044642 -0.011595 -0.036656  0.012191  0.024991 -0.036038   \n",
       "4  0.005383 -0.044642 -0.036385  0.021872  0.003935  0.015596  0.008142   \n",
       "\n",
       "         s4        s5        s6  target  \n",
       "0 -0.002592  0.019908 -0.017646   151.0  \n",
       "1 -0.039493 -0.068330 -0.092204    75.0  \n",
       "2 -0.002592  0.002864 -0.025930   141.0  \n",
       "3  0.034309  0.022692 -0.009362   206.0  \n",
       "4 -0.002592 -0.031991 -0.046641   135.0  "
      ]
     },
     "execution_count": 2,
     "metadata": {},
     "output_type": "execute_result"
    }
   ],
   "source": [
    "# scikit-learnに用意されている、糖尿病患者のデータセットを使う\n",
    "from sklearn.datasets import load_diabetes\n",
    "diabetes = load_diabetes()\n",
    "\n",
    "# diabetesのデータセットは、辞書型で格納されているので、扱いやすいようにpandasのデータフレームに変換する。\n",
    "# 各特徴データ\n",
    "df = pd.DataFrame(diabetes.data, columns=diabetes.feature_names)\n",
    "# ラベル, 種類のデータ。各数値ラベルを名前に置き換えて加える。\n",
    "df[\"target\"] = diabetes.target\n",
    "\n",
    "df.head()"
   ]
  },
  {
   "cell_type": "code",
   "execution_count": 21,
   "metadata": {},
   "outputs": [
    {
     "name": "stdout",
     "output_type": "stream",
     "text": [
      "Sample count -> Sample1 : Sample2 = 150 / 200\n"
     ]
    },
    {
     "data": {
      "text/plain": [
       "(array([-0.03638469, -0.00836158, -0.04069594, -0.03854032,  0.08864151,\n",
       "        -0.02129532, -0.03854032, -0.00405033, -0.06332999, -0.02452876,\n",
       "        -0.02129532,  0.07139652,  0.02720622,  0.01211685,  0.09295276,\n",
       "        -0.02991782, -0.00836158,  0.05954058,  0.11127556,  0.01966154,\n",
       "        -0.02237314, -0.00405033, -0.03638469,  0.01750591,  0.02612841,\n",
       "         0.05954058, -0.04392938, -0.02560657, -0.03530688,  0.03367309,\n",
       "        -0.00620595, -0.01698407, -0.046085  , -0.00728377, -0.00620595,\n",
       "         0.05954058,  0.00457217, -0.00512814,  0.03582872,  0.02073935,\n",
       "        -0.03099563, -0.01267283,  0.04552903, -0.00728377,  0.01211685,\n",
       "         0.02181716, -0.02021751, -0.02129532, -0.02884001, -0.03207344,\n",
       "        -0.00189471,  0.07678558, -0.04500719,  0.05846277,  0.02289497,\n",
       "         0.12313149, -0.06440781,  0.0250506 ,  0.0347509 , -0.02021751,\n",
       "        -0.03961813, -0.00297252,  0.06169621,  0.03906215,  0.01427248,\n",
       "        -0.046085  , -0.03207344,  0.00672779, -0.04716281, -0.01375064,\n",
       "         0.0519959 , -0.02991782,  0.0164281 ,  0.08864151,  0.01427248,\n",
       "        -0.02237314,  0.03367309, -0.04285156,  0.05630715,  0.01858372,\n",
       "         0.01750591,  0.00457217,  0.03690653, -0.02560657,  0.01966154,\n",
       "         0.01535029,  0.05630715, -0.06871905, -0.00297252,  0.02828403,\n",
       "        -0.00836158,  0.02612841, -0.00512814,  0.06924089, -0.03099563,\n",
       "         0.04552903,  0.00564998, -0.01806189,  0.01966154, -0.05039625,\n",
       "        -0.00728377, -0.04177375, -0.00620595,  0.07139652, -0.02021751,\n",
       "        -0.04500719,  0.00026092,  0.03690653, -0.03961813, -0.07087468,\n",
       "         0.00672779, -0.02452876, -0.046085  ,  0.01103904, -0.01590626,\n",
       "        -0.04500719, -0.02237314,  0.00241654, -0.05794093, -0.01267283,\n",
       "         0.0347509 , -0.00836158, -0.06117437,  0.00672779,  0.01427248,\n",
       "        -0.03099563,  0.01750591,  0.06816308,  0.00996123, -0.03422907,\n",
       "        -0.02560657,  0.0703187 , -0.02991782,  0.01858372,  0.06061839,\n",
       "         0.04121778,  0.00672779,  0.0519959 ,  0.08540807,  0.03151747,\n",
       "         0.01750591, -0.03315126, -0.02452876, -0.02021751,  0.114509  ,\n",
       "        -0.00512814,  0.04013997, -0.05794093,  0.04984027, -0.00189471]),\n",
       " array([ 0.00457217,  0.06061839, -0.06440781, -0.046085  ,  0.00241654,\n",
       "        -0.02237314,  0.0433734 , -0.06979687,  0.09618619, -0.046085  ,\n",
       "        -0.06117437, -0.01698407,  0.07139652, -0.02345095, -0.02345095,\n",
       "        -0.0902753 , -0.0105172 ,  0.17055523, -0.00728377, -0.01159501,\n",
       "         0.00564998, -0.03315126, -0.01806189, -0.01590626, -0.07518593,\n",
       "        -0.04824063, -0.03854032,  0.05415152, -0.046085  ,  0.08540807,\n",
       "        -0.06225218, -0.03315126,  0.05630715,  0.00888341, -0.02345095,\n",
       "        -0.0730303 ,  0.06492964,  0.00133873,  0.06492964,  0.02828403,\n",
       "        -0.05147406, -0.06656343, -0.04069594, -0.04931844, -0.01267283,\n",
       "         0.01427248, -0.07734155,  0.04768465,  0.06061839, -0.01806189,\n",
       "         0.02397278, -0.0816528 ,  0.0250506 , -0.01159501, -0.07410811,\n",
       "        -0.01806189, -0.04716281,  0.05954058,  0.01858372, -0.06548562,\n",
       "        -0.05255187, -0.07949718, -0.0547075 ,  0.06385183, -0.00512814,\n",
       "        -0.07626374,  0.12744274, -0.06009656,  0.13714305,  0.09295276,\n",
       "        -0.01159501,  0.03906215, -0.04069594, -0.04177375, -0.03638469,\n",
       "         0.05954058,  0.06061839, -0.0547075 , -0.06764124, -0.01375064,\n",
       "        -0.07734155, -0.08488624, -0.03315126,  0.05415152, -0.06009656,\n",
       "        -0.0730303 , -0.0374625 , -0.03099563, -0.0105172 ,  0.00133873,\n",
       "        -0.03854032, -0.05794093, -0.01590626, -0.0374625 ,  0.07139652,\n",
       "        -0.00081689,  0.06708527, -0.00081689, -0.0105172 ,  0.0433734 ,\n",
       "         0.09295276, -0.0816528 , -0.05686312,  0.08001901,  0.16085492,\n",
       "        -0.05578531, -0.08919748,  0.00996123, -0.05578531, -0.02452876,\n",
       "        -0.04716281, -0.02345095,  0.07139652, -0.02560657,  0.04660684,\n",
       "        -0.08380842, -0.06548562, -0.04069594, -0.0105172 , -0.06332999,\n",
       "        -0.03099563, -0.05578531, -0.02560657, -0.05901875,  0.00457217,\n",
       "        -0.04069594, -0.046085  , -0.03530688, -0.0105172 , -0.01806189,\n",
       "        -0.06656343,  0.03043966, -0.06440781, -0.06979687, -0.03530688,\n",
       "        -0.00943939,  0.04768465,  0.02828403, -0.02668438,  0.04013997,\n",
       "        -0.03315126,  0.12852056,  0.00457217, -0.02991782,  0.03043966,\n",
       "        -0.00943939, -0.01159501,  0.05522933, -0.00405033, -0.05362969,\n",
       "        -0.08057499, -0.05901875,  0.00133873,  0.097264  , -0.01159501,\n",
       "        -0.00836158, -0.01590626, -0.0547075 ,  0.04552903,  0.04984027,\n",
       "         0.09834182, -0.02345095,  0.05415152, -0.03961813,  0.00564998,\n",
       "         0.04445121,  0.03906215,  0.00133873,  0.02073935,  0.03798434,\n",
       "         0.04229559, -0.05578531,  0.06816308,  0.03906215,  0.04552903,\n",
       "        -0.06979687,  0.00457217,  0.03582872,  0.03043966,  0.04121778,\n",
       "         0.01535029,  0.01535029,  0.07786339, -0.02452876,  0.08864151,\n",
       "         0.01427248, -0.02452876, -0.01267283, -0.01590626, -0.06656343,\n",
       "        -0.05686312, -0.00405033,  0.04229559, -0.0277622 ,  0.03367309,\n",
       "         0.05415152, -0.06225218, -0.03422907,  0.01103904, -0.06225218]))"
      ]
     },
     "execution_count": 21,
     "metadata": {},
     "output_type": "execute_result"
    }
   ],
   "source": [
    "# データセットの準備\n",
    "# 標準化されている'age'のパラメータで、0以上と0未満で標本を分け、150サンプルと200サンプルずつ標本抽出する。\n",
    "df_1 = df[df[\"age\"]>=0].sample(150, random_state=111).reset_index(drop=True)\n",
    "df_2 = df[df[\"age\"]<0].sample(200, random_state=111).reset_index(drop=True)\n",
    "\n",
    "# dataset 1, and 2, 1年後の糖尿病の進行度を示す値の目的変数を値とする。データサイズを最大の方に合わせる\n",
    "values1 = df_1[\"bmi\"].values\n",
    "values2 = df_2[\"bmi\"].values\n",
    "\n",
    "print(f\"Sample count -> Sample1 : Sample2 = {len(values1)} / {len(values2)}\")\n",
    "values1, values2"
   ]
  },
  {
   "attachments": {},
   "cell_type": "markdown",
   "metadata": {},
   "source": [
    "### (0) データを確認"
   ]
  },
  {
   "cell_type": "code",
   "execution_count": 22,
   "metadata": {},
   "outputs": [
    {
     "data": {
      "text/plain": [
       "<matplotlib.legend.Legend at 0x26238ef2910>"
      ]
     },
     "execution_count": 22,
     "metadata": {},
     "output_type": "execute_result"
    },
    {
     "data": {
      "image/png": "[encoded data removed]",
      "text/plain": [
       "<Figure size 720x432 with 1 Axes>"
      ]
     },
     "metadata": {
      "needs_background": "light"
     },
     "output_type": "display_data"
    }
   ],
   "source": [
    "# ヒストグラム\n",
    "fig, ax = plt.subplots(figsize=(10,6))\n",
    "\n",
    "sns.distplot(values1, bins=np.arange(np.min(values1)-0.1, np.max(values1)+0.1, 0.01), kde=False, ax=ax, label=f\"Sample1_{np.mean(values1)}\")\n",
    "sns.distplot(values2, bins=np.arange(np.min(values2)-0.1, np.max(values2)+0.1, 0.01), kde=False, ax=ax, label=f\"Sample2_{np.mean(values2)}\")\n",
    "ax.set_xlabel(\"target\")\n",
    "ax.set_ylabel('Frequency')\n",
    "ax.legend()"
   ]
  },
  {
   "cell_type": "code",
   "execution_count": 23,
   "metadata": {},
   "outputs": [
    {
     "name": "stderr",
     "output_type": "stream",
     "text": [
      "No artists with labels found to put in legend.  Note that artists whose label start with an underscore are ignored when legend() is called with no argument.\n"
     ]
    },
    {
     "data": {
      "text/plain": [
       "<matplotlib.legend.Legend at 0x26238eff7c0>"
      ]
     },
     "execution_count": 23,
     "metadata": {},
     "output_type": "execute_result"
    },
    {
     "data": {
      "image/png": "[encoded data removed]",
      "text/plain": [
       "<Figure size 720x432 with 1 Axes>"
      ]
     },
     "metadata": {
      "needs_background": "light"
     },
     "output_type": "display_data"
    }
   ],
   "source": [
    "# ボックスプロット\n",
    "fig, ax = plt.subplots(figsize=(10,6))\n",
    "\n",
    "data = pd.concat([\n",
    "       pd.DataFrame({\"Sample\":[\"Sample1\" for i in range(len(values1))],\n",
    "                     \"Values\":values1}),\n",
    "       pd.DataFrame({\"Sample\":[\"Sample2\" for i in range(len(values2))],\n",
    "                     \"Values\":values2})\n",
    "       ]).reset_index(drop=True)\n",
    "\n",
    "sns.boxplot(data=data, x=\"Sample\", y=\"Values\")\n",
    "ax.set_xlabel(\"Sample group\")\n",
    "ax.set_ylabel(\"sepal length (cm)\")\n",
    "ax.legend()"
   ]
  },
  {
   "attachments": {},
   "cell_type": "markdown",
   "metadata": {},
   "source": [
    "### (0) 想定する分析シーン\n",
    "\n",
    "- ある年齢を基準で2標本の糖尿病患者グループを作り、BMIを計測する。<br>\n",
    "- 取得したデータは、標本1は150人、標本2は200人を抽出したものとする。<br>\n",
    "- それぞれの年齢帯におけるBMI平均値に差があるといえるか？を統計的に検定する。<br>\n",
    "\n",
    "*データセットは元のdiabetesデータを、標準化された0を基準に2グループに分けたデータから、サンプルを抽出したデータを取り扱う。<br>"
   ]
  },
  {
   "attachments": {},
   "cell_type": "markdown",
   "metadata": {},
   "source": [
    "### (1) 問題設定\n",
    "- 帰無仮説$H_0$と対立仮説$H_1$を定義する。<br>"
   ]
  },
  {
   "attachments": {},
   "cell_type": "markdown",
   "metadata": {},
   "source": [
    "帰無仮説$H_0$：年齢帯によって、BMIの平均値は変わらない。<br>\n",
    "対立仮説$H_1$：年齢帯によって平均値が異なる。<br>"
   ]
  },
  {
   "attachments": {},
   "cell_type": "markdown",
   "metadata": {},
   "source": [
    "### (2) 適切な検定方法を選択する。\n",
    "- 検定の目的、データの確認結果、サンプル数から適切な検定方法を選択する。<br>"
   ]
  },
  {
   "attachments": {},
   "cell_type": "markdown",
   "metadata": {},
   "source": [
    "1. 検定の目的<br>\n",
    "-> 2つの異なる母集団から、それぞれ無作為抽出された2つの標本グループについて、その標本平均が等しいかどうか？を検定する。\n",
    "\n",
    "2. データの確認 (ただし本分析においては仮定を置いたものとする。)<br>\n",
    "    2-1. 正規性の仮定<br>\n",
    "        -> 母集団は正規分布に従っている。<br>\n",
    "    2-2. 独立性の仮定<br>\n",
    "        -> 母集団内の個体同士は互いに独立している。<br>\n",
    "    2-3. 等分散性の仮定<br>\n",
    "        ->2つの母集団の分散が等しい<br>\n",
    "\n",
    "3. サンプル数の確認<br>\n",
    "    サンプル数：$n_1$=150, $n_2$=200<br>\n",
    "        ->標本群30サンプル以上であり十分なサンプル数がある。分布の平均値やばらつきが妥当性もって評価できると考えた。\n",
    "\n",
    "### 検定方法：t検定を利用する。"
   ]
  },
  {
   "attachments": {},
   "cell_type": "markdown",
   "metadata": {},
   "source": [
    "### (3) 優位水準を定義する。\n",
    "- 優位と判断する水準を定義する。<br>"
   ]
  },
  {
   "attachments": {},
   "cell_type": "markdown",
   "metadata": {},
   "source": [
    "優位水準α=5%(両側)する。<br>"
   ]
  },
  {
   "attachments": {},
   "cell_type": "markdown",
   "metadata": {},
   "source": [
    "### (4) 検定統計量を計算する。\n",
    "- 選択した検定方法に基づいて、検定統計量を計算する。<br>"
   ]
  },
  {
   "attachments": {},
   "cell_type": "markdown",
   "metadata": {},
   "source": [
    "方法1) 各統計量を求めつつ計算する\n",
    "\n",
    "t値の計算<br>\n",
    "\n",
    "$t = \\frac{\\bar{X_1}-\\bar{X_2}}{\\sigma*\\sqrt{\\frac{1}{n_1}+\\frac{1}{n_2}}}\\\\$\n",
    "<br>\n",
    "\n",
    "各変数<br>\n",
    "\n",
    "$\\bar{X_1} : X_1の平均値$<br>\n",
    "$\\bar{X_2} : X_2の平均値$<br>\n",
    "$\\sigma^2 : 母分散$<br>\n",
    "$n_1 : 標本1のサンプル数$<br>\n",
    "$n_2 : 標本2のサンプル数$<br>\n"
   ]
  },
  {
   "cell_type": "code",
   "execution_count": 16,
   "metadata": {},
   "outputs": [],
   "source": [
    "# Function\n",
    "def calc_tvalue(values1:list, values2:list)->float:\n",
    "    '''\n",
    "    tを計算する\n",
    "\n",
    "    Args\n",
    "        values1 (list) : 標本1の計算対象の1次元リスト。numpy.arrayやpandas.Seriesも可\n",
    "        values2 (list) : 標本1の計算対象の1次元リスト。numpy.arrayやpandas.Seriesも可\n",
    "\n",
    "    Return\n",
    "        t : 計算されたt値を返す。\n",
    "    '''\n",
    "\n",
    "    # calc mean\n",
    "    m_1, m_2 = np.mean(values1), np.mean(values2)\n",
    "    # calc std, 母分散が等しいと仮定。合わせたデータで不偏標本標準偏差を使う\n",
    "    s = np.std(np.concatenate([np.array(values1), np.array(values2)]), ddof=1)\n",
    "    # dataset count\n",
    "    n_1, n_2 = len(values1), len(values2)\n",
    "\n",
    "    # calc standard error\n",
    "    se = np.sqrt(s**2*(1/n_1 + 1/n_2))\n",
    "\n",
    "    # t value\n",
    "    t = (m_1 - m_2) / se\n",
    "\n",
    "    # print each value\n",
    "    print(f\"Average value, sample1 / sample2 : {m_1}/{m_2}\")\n",
    "    print(f\"Standard error : {se}\")\n",
    "    print(f\"t value : {t}\")\n",
    "\n",
    "    return t"
   ]
  },
  {
   "cell_type": "code",
   "execution_count": 24,
   "metadata": {},
   "outputs": [
    {
     "name": "stdout",
     "output_type": "stream",
     "text": [
      "Average value, sample1 / sample2 : 0.004162598014926014/-0.005677826219606616\n",
      "Standard error : 0.005241526676250299\n",
      "t value : 1.8773965759098847\n",
      "t value threshold : 1.976013177679155\n"
     ]
    }
   ],
   "source": [
    "# calculate t value\n",
    "t = calc_tvalue(values1=values1, values2=values2)\n",
    "\n",
    "# 両側信頼係数のt値を求める。\n",
    "# 自由度\n",
    "d = len(values1) - 1\n",
    "# 片側優位水準\n",
    "alpha = 0.05\n",
    "\n",
    "# scipy.statsを使って計算する。\n",
    "t_thre = stats.t.ppf(1 - alpha/2, d)\n",
    "print(f\"t value threshold : {t_thre}\")"
   ]
  },
  {
   "attachments": {},
   "cell_type": "markdown",
   "metadata": {},
   "source": [
    "方法2) scipy.stats.ttest_ind()関数を使って計算する。"
   ]
  },
  {
   "cell_type": "code",
   "execution_count": 28,
   "metadata": {},
   "outputs": [
    {
     "name": "stdout",
     "output_type": "stream",
     "text": [
      "t value : 1.8842437808010193\n"
     ]
    }
   ],
   "source": [
    "t_value, p_value = stats.ttest_ind(a=values1, b=values2, alternative=\"two-sided\", equal_var=True)\n",
    "\n",
    "print(f\"t value : {t_value}\")"
   ]
  },
  {
   "attachments": {},
   "cell_type": "markdown",
   "metadata": {},
   "source": [
    "### (5) p値を計算する。\n",
    "- 検定統計量に基づいてp値を計算する。<br>"
   ]
  },
  {
   "cell_type": "code",
   "execution_count": 29,
   "metadata": {},
   "outputs": [
    {
     "name": "stdout",
     "output_type": "stream",
     "text": [
      "p value : 0.06036533523967504\n"
     ]
    }
   ],
   "source": [
    "print(f\"p value : {p_value}\")"
   ]
  },
  {
   "attachments": {},
   "cell_type": "markdown",
   "metadata": {},
   "source": [
    "### (6) 結果を解釈する。\n",
    "- p値と優位水準を比較して結果を解釈する。<br>\n",
    "p値≦$α$：帰無仮説を棄却し、対立仮説を採択する。<br>\n",
    "p値>$α$：帰無仮説を棄却できない"
   ]
  },
  {
   "attachments": {},
   "cell_type": "markdown",
   "metadata": {},
   "source": [
    "### 判定\n",
    "- p値は0.06と両側優位水準5%より大きい。よって帰無仮説は棄却されない。<br>\n",
    "-> 差は無い\n",
    "\n",
    "- 一方で結果的に両側優位水準10%とした場合では、帰無仮説を棄却できた。"
   ]
  },
  {
   "cell_type": "code",
   "execution_count": 30,
   "metadata": {},
   "outputs": [
    {
     "data": {
      "text/plain": [
       "<matplotlib.legend.Legend at 0x2623950f460>"
      ]
     },
     "execution_count": 30,
     "metadata": {},
     "output_type": "execute_result"
    },
    {
     "data": {
      "image/png": "[encoded data removed]",
      "text/plain": [
       "<Figure size 720x432 with 1 Axes>"
      ]
     },
     "metadata": {
      "needs_background": "light"
     },
     "output_type": "display_data"
    }
   ],
   "source": [
    "# t分布サンプリング\n",
    "t_range = np.linspace(-5,5,200)\n",
    "t_value_ar = []\n",
    "for i in t_range:\n",
    "    t_value_ar.append(stats.t.pdf(x=i, df=len(values1)+len(values2)-2))\n",
    "\n",
    "# plot\n",
    "fig, ax = plt.subplots(figsize=(10,6))\n",
    "ax.plot(t_range, t_value_ar, label=\"t distribution\\ndf={}\".format(len(values1)-1))\n",
    "# t value\n",
    "ax.axvline(x=t_value, ymin=0, ymax=1, color=\"red\", lw=3, linestyle=\"-\", alpha=0.5, label=\"t value\")\n",
    "ax.set_xlabel(\"t value\")\n",
    "ax.legend()"
   ]
  },
  {
   "attachments": {},
   "cell_type": "markdown",
   "metadata": {},
   "source": [
    "### 母分散が異なる前提でt検定をした場合。➡ウェルチのt検定"
   ]
  },
  {
   "attachments": {},
   "cell_type": "markdown",
   "metadata": {},
   "source": [
    "### (4) 検定統計量を計算する。\n",
    "- 選択した検定方法に基づいて、検定統計量を計算する。<br>"
   ]
  },
  {
   "attachments": {},
   "cell_type": "markdown",
   "metadata": {},
   "source": [
    "方法1) 各統計量を求めつつ計算する\n",
    "\n",
    "$Weltch \\ t = \\frac{\\bar{X_1}-\\bar{X_2}}{\\sqrt{\\frac{s_1^2}{n_1}+\\frac{s_2^2}{n_2}}}\\\\$\n",
    "<br>\n",
    "\n",
    "各変数<br>\n",
    "\n",
    "$\\bar{X_1} : X_1の平均値$<br>\n",
    "$\\bar{X_2} : X_2の平均値$<br>\n",
    "$s_1^2 : X_1の標本分散$<br>\n",
    "$s_2^2 : X_2の標本分散$<br>\n",
    "$n_1 : 標本1のサンプル数$<br>\n",
    "$n_2 : 標本2のサンプル数$<br>"
   ]
  },
  {
   "cell_type": "code",
   "execution_count": 31,
   "metadata": {},
   "outputs": [],
   "source": [
    "# Function\n",
    "def calc_tvalue_weltch(values1:list, values2:list)->float:\n",
    "    '''\n",
    "    tを計算する\n",
    "\n",
    "    Args\n",
    "        values1 (list) : 標本1の計算対象の1次元リスト。numpy.arrayやpandas.Seriesも可\n",
    "        values2 (list) : 標本1の計算対象の1次元リスト。numpy.arrayやpandas.Seriesも可\n",
    "\n",
    "    Return\n",
    "        t : 計算されたt値を返す。\n",
    "    '''\n",
    "\n",
    "    # calc mean\n",
    "    m_1, m_2 = np.mean(values1), np.mean(values2)\n",
    "    # calc std, 不偏分散を使う\n",
    "    s_1, s_2 = np.var(values1, ddof=1), np.var(values2, ddof=1)\n",
    "    # dataset count\n",
    "    n_1, n_2 = len(values1), len(values2)\n",
    "\n",
    "    # calc standard error\n",
    "    se = np.sqrt((s_1**2/n_1) + (s_2**2/n_2))\n",
    "\n",
    "    # t value\n",
    "    t = (m_1 - m_2) / se\n",
    "\n",
    "    # print each value\n",
    "    print(f\"Average value, sample1 / sample2 : {m_1}/{m_2}\")\n",
    "    print(f\"Standard error : {se}\")\n",
    "    print(f\"t value : {t}\")\n",
    "\n",
    "    return t"
   ]
  },
  {
   "cell_type": "code",
   "execution_count": 33,
   "metadata": {},
   "outputs": [
    {
     "name": "stdout",
     "output_type": "stream",
     "text": [
      "Average value, sample1 / sample2 : 0.004162598014926014/-0.005677826219606616\n",
      "Standard error : 0.0002426009133890522\n",
      "t value : 40.56218955264946\n",
      "t value threshold : 1.976013177679155\n"
     ]
    }
   ],
   "source": [
    "# calculate t value\n",
    "t = calc_tvalue_weltch(values1=values1, values2=values2)\n",
    "\n",
    "# 両側信頼係数のt値を求める。\n",
    "# 自由度\n",
    "d = len(values1) - 1\n",
    "# 片側優位水準\n",
    "alpha = 0.05\n",
    "\n",
    "# scipy.statsを使って計算する。\n",
    "t_thre = stats.t.ppf(1 - alpha/2, d)\n",
    "print(f\"t value threshold : {t_thre}\")"
   ]
  },
  {
   "attachments": {},
   "cell_type": "markdown",
   "metadata": {},
   "source": [
    "方法2) scipy.stats.ttest_1samp()関数を使って計算する。"
   ]
  },
  {
   "cell_type": "code",
   "execution_count": 34,
   "metadata": {},
   "outputs": [
    {
     "name": "stdout",
     "output_type": "stream",
     "text": [
      "t value : 1.9558762180881317\n"
     ]
    }
   ],
   "source": [
    "t_value, p_value = stats.ttest_ind(a=values1, b=values2, alternative=\"two-sided\", equal_var=False)\n",
    "\n",
    "print(f\"t value : {t_value}\")"
   ]
  },
  {
   "attachments": {},
   "cell_type": "markdown",
   "metadata": {},
   "source": [
    "### (5) p値を計算する。\n",
    "- 検定統計量に基づいてp値を計算する。<br>"
   ]
  },
  {
   "cell_type": "code",
   "execution_count": 35,
   "metadata": {},
   "outputs": [
    {
     "name": "stdout",
     "output_type": "stream",
     "text": [
      "p value : 0.05127987367710076\n"
     ]
    }
   ],
   "source": [
    "print(f\"p value : {p_value}\")"
   ]
  },
  {
   "attachments": {},
   "cell_type": "markdown",
   "metadata": {},
   "source": [
    "### (6) 結果を解釈する。\n",
    "- p値と優位水準を比較して結果を解釈する。<br>\n",
    "p値≦$α$：帰無仮説を棄却し、対立仮説を採択する。<br>\n",
    "p値>$α$：帰無仮説を棄却できない"
   ]
  },
  {
   "attachments": {},
   "cell_type": "markdown",
   "metadata": {},
   "source": [
    "### 判定\n",
    "- t値は0.051で、両側優位水準5%より大きい。よって帰無仮説は棄却されない。<br>\n",
    "-> 差は無い"
   ]
  },
  {
   "cell_type": "code",
   "execution_count": 36,
   "metadata": {},
   "outputs": [
    {
     "data": {
      "text/plain": [
       "<matplotlib.legend.Legend at 0x2623951bc70>"
      ]
     },
     "execution_count": 36,
     "metadata": {},
     "output_type": "execute_result"
    },
    {
     "data": {
      "image/png": "[encoded data removed]",
      "text/plain": [
       "<Figure size 720x432 with 1 Axes>"
      ]
     },
     "metadata": {
      "needs_background": "light"
     },
     "output_type": "display_data"
    }
   ],
   "source": [
    "# t分布サンプリング\n",
    "t_range = np.linspace(-5,5,200)\n",
    "t_value_ar = []\n",
    "for i in t_range:\n",
    "    t_value_ar.append(stats.t.pdf(x=i, df=len(values1)+len(values2)-2))\n",
    "\n",
    "# plot\n",
    "fig, ax = plt.subplots(figsize=(10,6))\n",
    "ax.plot(t_range, t_value_ar, label=\"t distribution\\ndf={}\".format(len(values1)-1))\n",
    "# t value\n",
    "ax.axvline(x=t_value, ymin=0, ymax=1, color=\"red\", lw=3, linestyle=\"-\", alpha=0.5, label=\"t value\")\n",
    "ax.set_xlabel(\"t value\")\n",
    "ax.legend()"
   ]
  },
  {
   "attachments": {},
   "cell_type": "markdown",
   "metadata": {},
   "source": [
    "<u>母分散が等しいかの前提によって、t値の値が変化する。<br>\n",
    "<u>それにより、統計的な判定の結果が変わる。"
   ]
  },
  {
   "cell_type": "markdown",
   "metadata": {},
   "source": [
    "### (7) 効果量を計算する。\n",
    "- 検定の結果が優位であれば、効果量を計算し意義を評価する。<br>"
   ]
  },
  {
   "attachments": {},
   "cell_type": "markdown",
   "metadata": {},
   "source": [
    "結果は優位でないが、ほぼ5%と同値であり、効果量を計算する。<br>"
   ]
  },
  {
   "attachments": {},
   "cell_type": "markdown",
   "metadata": {},
   "source": [
    "方法) Cohenのdで計算する。\n",
    "\n",
    "Cohenのd : 2つのグループ間の平均値の差を、両グループの標準偏差のプール値で割った値。\n",
    "\n",
    "$\\text{Cohenのd} = \\frac{M1 - M2}{SD_{pooled}}$\n",
    "\n",
    "ここで\n",
    "$SD_{pooled} = \\sqrt{\\frac{(n1 - 1) \\times SD1^2 + (n2 - 1) \\times SD2^2}{n1 + n2 - 2}}$\n",
    "\n",
    "各変数は<br>\n",
    "$n1$: グループ1のサンプル数<br>\n",
    "$n2$: グループ2のサンプル数<br>\n",
    "$SD1$: グループ1の標準偏差<br>\n",
    "$SD2$: グループ2の標準偏差<br>\n",
    "\n",
    "Cohenのdの値が大きいほど、効果量が大きいと判断する。<br>\n",
    "効果量の大きさの目安は、\n",
    "\n",
    "0.2: 小さい効果<br>\n",
    "0.5: 中くらいの効果<br>\n",
    "0.8: 大きい効果<br>"
   ]
  },
  {
   "cell_type": "code",
   "execution_count": 37,
   "metadata": {},
   "outputs": [],
   "source": [
    "# Cohenのdの計算関数\n",
    "def cohen_d(values1, values2):\n",
    "    n1 = len(values1)\n",
    "    n2 = len(values2)\n",
    "    mean1 = np.mean(values1)\n",
    "    mean2 = np.mean(values2)\n",
    "    sd1 = np.std(values1, ddof=1)\n",
    "    sd2 = np.std(values2, ddof=1)\n",
    "\n",
    "    pooled_sd = np.sqrt(((n1 - 1) * sd1**2 + (n2 - 1) * sd2**2) / (n1 + n2 - 2))\n",
    "    cohen_d = (mean1 - mean2) / pooled_sd\n",
    "\n",
    "    return cohen_d"
   ]
  },
  {
   "cell_type": "code",
   "execution_count": 39,
   "metadata": {},
   "outputs": [
    {
     "name": "stdout",
     "output_type": "stream",
     "text": [
      "Cohen d values : 0.2035215892659844\n"
     ]
    }
   ],
   "source": [
    "cohend = cohen_d(values1, values2)\n",
    "\n",
    "print(f\"Cohen d values : {cohend}\")"
   ]
  },
  {
   "cell_type": "markdown",
   "metadata": {},
   "source": [
    "### 判定\n",
    "Cohenのdは0.204と小さい。<br>\n",
    "-> よって小さい効果。"
   ]
  },
  {
   "cell_type": "markdown",
   "metadata": {},
   "source": []
  }
 ],
 "metadata": {
  "kernelspec": {
   "display_name": "Python 3",
   "language": "python",
   "name": "python3"
  },
  "language_info": {
   "codemirror_mode": {
    "name": "ipython",
    "version": 3
   },
   "file_extension": ".py",
   "mimetype": "text/x-python",
   "name": "python",
   "nbconvert_exporter": "python",
   "pygments_lexer": "ipython3",
   "version": "3.9.7"
  },
  "orig_nbformat": 4
 },
 "nbformat": 4,
 "nbformat_minor": 2
}
