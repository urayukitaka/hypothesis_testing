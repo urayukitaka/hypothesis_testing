{
 "cells": [
  {
   "attachments": {},
   "cell_type": "markdown",
   "metadata": {},
   "source": [
    "## 対応のある3標本以上の一元配置分散分析の事例\n",
    "\n",
    "同じ母集団から無作為抽出された3つ以上の標本にてついて、標本平均が等しいかどうか？を検定する。"
   ]
  },
  {
   "attachments": {},
   "cell_type": "markdown",
   "metadata": {},
   "source": [
    "### (0)事前準備"
   ]
  },
  {
   "cell_type": "code",
   "execution_count": 3,
   "metadata": {},
   "outputs": [],
   "source": [
    "# ライブラリ\n",
    "import os\n",
    "import sys\n",
    "sys.path.append(\"../../scripts\")\n",
    "import warnings\n",
    "warnings.simplefilter('ignore')\n",
    "import pandas as pd\n",
    "import numpy as np\n",
    "np.random.seed(111)\n",
    "import random\n",
    "random.seed(111)\n",
    "\n",
    "# scipy\n",
    "from scipy import stats\n",
    "# pingouin\n",
    "import pingouin as pg\n",
    "# statsmodels\n",
    "import statsmodels.api as sm\n",
    "from statsmodels.stats.anova import AnovaRM\n",
    "# graph\n",
    "import matplotlib.pyplot as plt\n",
    "import seaborn as sns\n",
    "\n",
    "# scripts\n",
    "import utils as u\n",
    "# graph setting\n",
    "u.graph_setting()"
   ]
  },
  {
   "attachments": {},
   "cell_type": "markdown",
   "metadata": {},
   "source": [
    "### (0) テーマのためのデータセット"
   ]
  },
  {
   "cell_type": "code",
   "execution_count": 4,
   "metadata": {},
   "outputs": [
    {
     "name": "stdout",
     "output_type": "stream",
     "text": [
      "group\n",
      "ctrl    10\n",
      "trt1    10\n",
      "trt2    10\n",
      "Name: count, dtype: int64\n"
     ]
    },
    {
     "data": {
      "text/html": [
       "<div>\n",
       "<style scoped>\n",
       "    .dataframe tbody tr th:only-of-type {\n",
       "        vertical-align: middle;\n",
       "    }\n",
       "\n",
       "    .dataframe tbody tr th {\n",
       "        vertical-align: top;\n",
       "    }\n",
       "\n",
       "    .dataframe thead th {\n",
       "        text-align: right;\n",
       "    }\n",
       "</style>\n",
       "<table border=\"1\" class=\"dataframe\">\n",
       "  <thead>\n",
       "    <tr style=\"text-align: right;\">\n",
       "      <th></th>\n",
       "      <th>weight</th>\n",
       "      <th>group</th>\n",
       "    </tr>\n",
       "  </thead>\n",
       "  <tbody>\n",
       "    <tr>\n",
       "      <th>1</th>\n",
       "      <td>4.17</td>\n",
       "      <td>ctrl</td>\n",
       "    </tr>\n",
       "    <tr>\n",
       "      <th>2</th>\n",
       "      <td>5.58</td>\n",
       "      <td>ctrl</td>\n",
       "    </tr>\n",
       "    <tr>\n",
       "      <th>3</th>\n",
       "      <td>5.18</td>\n",
       "      <td>ctrl</td>\n",
       "    </tr>\n",
       "    <tr>\n",
       "      <th>4</th>\n",
       "      <td>6.11</td>\n",
       "      <td>ctrl</td>\n",
       "    </tr>\n",
       "    <tr>\n",
       "      <th>5</th>\n",
       "      <td>4.50</td>\n",
       "      <td>ctrl</td>\n",
       "    </tr>\n",
       "  </tbody>\n",
       "</table>\n",
       "</div>"
      ],
      "text/plain": [
       "   weight group\n",
       "1    4.17  ctrl\n",
       "2    5.58  ctrl\n",
       "3    5.18  ctrl\n",
       "4    6.11  ctrl\n",
       "5    4.50  ctrl"
      ]
     },
     "execution_count": 4,
     "metadata": {},
     "output_type": "execute_result"
    }
   ],
   "source": [
    "# pydatasetに用意されているPlantGrowthのデータセットを利用する\n",
    "from pydataset import data\n",
    "df = data(\"PlantGrowth\")\n",
    "\n",
    "print(df[\"group\"].value_counts())\n",
    "df.head()"
   ]
  },
  {
   "cell_type": "code",
   "execution_count": 5,
   "metadata": {},
   "outputs": [
    {
     "data": {
      "text/plain": [
       "(array([4.17, 5.58, 5.18, 6.11, 4.5 , 4.61, 5.17, 4.53, 5.33, 5.14]),\n",
       " array([4.81, 4.17, 4.41, 3.59, 5.87, 3.83, 6.03, 4.89, 4.32, 4.69]),\n",
       " array([6.31, 5.12, 5.54, 5.5 , 5.37, 5.29, 4.92, 6.15, 5.8 , 5.26]))"
      ]
     },
     "execution_count": 5,
     "metadata": {},
     "output_type": "execute_result"
    }
   ],
   "source": [
    "# データセットの準備\n",
    "\n",
    "# dataset 1, and 2 and 3 sample\n",
    "values1 = df[df[\"group\"]==\"ctrl\"][\"weight\"].values\n",
    "values2 = df[df[\"group\"]==\"trt1\"][\"weight\"].values\n",
    "values3 = df[df[\"group\"]==\"trt2\"][\"weight\"].values\n",
    "\n",
    "values1, values2, values3"
   ]
  },
  {
   "attachments": {},
   "cell_type": "markdown",
   "metadata": {},
   "source": [
    "### (0) データを確認"
   ]
  },
  {
   "cell_type": "code",
   "execution_count": 6,
   "metadata": {},
   "outputs": [
    {
     "name": "stderr",
     "output_type": "stream",
     "text": [
      "No artists with labels found to put in legend.  Note that artists whose label start with an underscore are ignored when legend() is called with no argument.\n"
     ]
    },
    {
     "data": {
      "text/plain": [
       "<matplotlib.legend.Legend at 0x187ec7db460>"
      ]
     },
     "execution_count": 6,
     "metadata": {},
     "output_type": "execute_result"
    },
    {
     "data": {
      "image/png": "[encoded data removed]",
      "text/plain": [
       "<Figure size 720x432 with 1 Axes>"
      ]
     },
     "metadata": {
      "needs_background": "light"
     },
     "output_type": "display_data"
    }
   ],
   "source": [
    "# ヴァイオリンプロット\n",
    "fig, ax = plt.subplots(figsize=(10,6))\n",
    "\n",
    "sns.violinplot(data=df, x=\"group\", y=\"weight\")\n",
    "ax.set_xlabel(\"Sample group\")\n",
    "ax.set_ylabel(\"weight\")\n",
    "ax.legend()"
   ]
  },
  {
   "attachments": {},
   "cell_type": "markdown",
   "metadata": {},
   "source": [
    "### (0) 想定する分析シーン"
   ]
  },
  {
   "attachments": {},
   "cell_type": "markdown",
   "metadata": {},
   "source": [
    "- ある植物の成長を2つの異なる処理条件または全く処理されていない植物（対照群）の乾燥質量の記録を比べる。<br>\n",
    "- それぞれの植物は対応ありとし、各インデックスが同じ植物と仮定する。\n",
    "- それぞれの処理の結果質量の平均値に差があるといえるか？を統計的に検定する。<br>"
   ]
  },
  {
   "attachments": {},
   "cell_type": "markdown",
   "metadata": {},
   "source": [
    "### (1) 問題設定\n",
    "- 帰無仮説$H_0$と対立仮説$H_1$を定義する。<br>"
   ]
  },
  {
   "attachments": {},
   "cell_type": "markdown",
   "metadata": {},
   "source": [
    "帰無仮説$H_0$：各因子で乾燥質量の平均値は変わらない。<br>\n",
    "対立仮説$H_1$：乾燥質量の平均値が異なる。<br>"
   ]
  },
  {
   "attachments": {},
   "cell_type": "markdown",
   "metadata": {},
   "source": [
    "### (2) 適切な検定方法を選択する。\n",
    "- 検定の目的、データの確認結果、サンプル数から適切な検定方法を選択する。<br>"
   ]
  },
  {
   "attachments": {},
   "cell_type": "markdown",
   "metadata": {},
   "source": [
    "1. 検定の目的<br>\n",
    "-> 同一の母集団から、それぞれ3つの標本グループについて、その標本平均が等しいかどうか？を検定する。\n",
    "-> 体形と運動行動(休憩、ウォーキング、ランニング)の2要因の組み合わせについて確認する。\n",
    "\n",
    "2. データの確認 (ただし本分析においては仮定を置いたものとする。)<br>\n",
    "    2-1. 正規性の仮定<br>\n",
    "        -> 誤差が正規分布に従う。<br>\n",
    "    2-2. 独立性の仮定<br>\n",
    "        -> 観測値が互いに独立している。<br>\n",
    "    2-3. 対称性の仮定<br>\n",
    "        ->各群間の誤差の分散が等しいこと。これについてMauchlyのW検定を実施する。<br>\n",
    "\n",
    "3. サンプル数の確認<br>\n",
    "    サンプル数<br>\n",
    "    各群サンプルが5以上、総サンプルが30以上。サンプル数としては少ないが、分布の平均値やばらつきは妥当性もって評価できると考えた。"
   ]
  },
  {
   "attachments": {},
   "cell_type": "markdown",
   "metadata": {},
   "source": [
    "*2-3の対称性の仮定の確認<br>\n",
    "\n",
    "MauchlyのW検定<br>\n",
    "被検体間で測定時感に関する分散が一定かどうかを検定する。方法論は、<br>\n",
    "(1)データの共分散行列を求める。<br>\n",
    "(2)共分散行列の固有値を求める<br>\n",
    "(3)Wを計算する。Wは共分散行列の固有値の積<br>\n",
    "(4)Wの自然対数を取った統計量とカイ二乗分布(自由度は群数-1)を用いて、p値を求める。<br>\n",
    "(5)p値が事前に設定した優位水準より小さい場合、母分散が等しいという帰無仮説を棄却し、対称性が満たされていないと判断する。<br>\n",
    "\n",
    "ここでは、上記計算をpingouin.sphericity()関数を用いて検定する。"
   ]
  },
  {
   "cell_type": "code",
   "execution_count": 7,
   "metadata": {},
   "outputs": [
    {
     "name": "stdout",
     "output_type": "stream",
     "text": [
      "SpherResults(spher=True, W=0.8700054446419556, chi2=1.1140464731515662, dof=2, pval=0.5729119513868732)\n"
     ]
    }
   ],
   "source": [
    "data = pd.concat([\n",
    "       pd.DataFrame({\"idx\":np.arange(len(values1)),\n",
    "                     \"Treatment\":[\"ctrl\" for i in range(len(values1))],\n",
    "                     \"Values\":values1}),\n",
    "       pd.DataFrame({\"idx\":np.arange(len(values2)),\n",
    "                     \"Treatment\":[\"trt1\" for i in range(len(values2))],\n",
    "                     \"Values\":values2}),\n",
    "       pd.DataFrame({\"idx\":np.arange(len(values3)),\n",
    "                     \"Treatment\":[\"trt2\" for i in range(len(values2))],\n",
    "                     \"Values\":values3}),\n",
    "       ]).sort_values(by=[\"idx\", \"Treatment\"]).reset_index(drop=True)\n",
    "\n",
    "mauchly_w = pg.sphericity(data, subject='idx', dv='Values', within='Treatment')\n",
    "print(mauchly_w)"
   ]
  },
  {
   "attachments": {},
   "cell_type": "markdown",
   "metadata": {},
   "source": [
    "MauchlyのW検定の結果、p値は5%より大きく対称性ありという帰無仮説を棄却できない。よって\n",
    "\n",
    "### 検定方法：対応のある一元配置分散分析を利用する。"
   ]
  },
  {
   "attachments": {},
   "cell_type": "markdown",
   "metadata": {},
   "source": [
    "### (3) 優位水準を定義する。\n",
    "- 優位と判断する水準を定義する。<br>"
   ]
  },
  {
   "attachments": {},
   "cell_type": "markdown",
   "metadata": {},
   "source": [
    "優位水準α=5%(両側)する。<br>"
   ]
  },
  {
   "attachments": {},
   "cell_type": "markdown",
   "metadata": {},
   "source": [
    "### (4) 検定統計量を計算する。\n",
    "- 選択した検定方法に基づいて、検定統計量を計算する。<br>"
   ]
  },
  {
   "attachments": {},
   "cell_type": "markdown",
   "metadata": {},
   "source": [
    "方法1) 各統計量を求めつつ計算する。<br>\n",
    "\n",
    "**F値の計算**\n",
    "\n",
    "群間の平方和($SS_{Treatment}$) = $\\sum_{i=1}^{k} n_i(\\bar{Y}_{i\\cdot} - \\bar{Y}_{\\cdot\\cdot})^2$\n",
    "\n",
    "被検体の平方和($SS_{Subject}$) = $\\sum_{j=1}^{N} m(\\bar{Y}_{\\cdot j} - \\bar{Y}_{\\cdot\\cdot})^2$\n",
    "\n",
    "全体の平方和($SS_{Total}$) = $\\sum_{i=1}^{k}\\sum_{j=1}^{N} (Y_{ij} - \\bar{Y}_{\\cdot\\cdot})^2$\n",
    "\n",
    "残差平方和($SS_{Error}$) = $SS_{Total}$ - $SS_{Treatment}$ - $SS_{Subject}$\n",
    "\n",
    "$df_{Treatment} = k - 1$\n",
    "\n",
    "$df_{Subjects} = N - 1$\n",
    "\n",
    "$df_{Error} = (k - 1)(N - 1)$\n",
    "\n",
    "$MS_{Treatment} = \\frac{SS_{Treatment}}{df_{Treatment}}$\n",
    "\n",
    "$MS_{Subjects} = \\frac{SS_{Subjects}}{df_{Subjects}}$\n",
    "\n",
    "$MS_{Error} = \\frac{SS_{Error}}{df_{Error}}$\n",
    "\n",
    "$F = \\frac{MS_{Treatment}}{MS_{Error}}$\n",
    "\n",
    "**各変数**<br>\n",
    "\n",
    "$k$: 群の数(処置レベルまたは条件の数)<br>\n",
    "\n",
    "$n_i$: 各群のデータ数<br>\n",
    "\n",
    "$\\bar{Y}_{i\\cdot}$: 各群の平均<br>\n",
    "\n",
    "$\\bar{Y}_{\\cdot\\cdot}$: 全体平均<br>\n",
    "\n",
    "$N$: サンプル数<br>\n",
    "\n",
    "$m$: 各被検体の測定回数<br>\n",
    "\n",
    "$\\bar{Y}_{\\cdot j}$: 各被検体の平均<br>\n",
    "\n",
    "$Y_{ij}$: 各データ点<br>\n",
    "\n",
    "$SS_{Treatment}$: 群間平方和<br>\n",
    "\n",
    "$SS_{Subjects}$: 被検体間平方和<br>\n",
    "\n",
    "$SS_{Total}$: 全体の平方和<br>\n",
    "\n",
    "$SS_{Error}$: 残差平方和<br>\n",
    "\n",
    "$df_{Treatment}$: 群間の自由度<br>\n",
    "\n",
    "$df_{Subjects}$: 被検体間の自由度<br>\n",
    "\n",
    "$df_{Error}$: 残差の自由度<br>\n",
    "\n",
    "$MS_{Treatment}$: 群間の平方平均<br>\n",
    "\n",
    "$MS_{Subjects}$: 被検体間の平方平均<br>\n",
    "\n",
    "$MS_{Error}$: 残差の平方平均<br>\n",
    "\n",
    "$F$: F値（群間の平方平均と残差の平方平均の比）"
   ]
  },
  {
   "cell_type": "code",
   "execution_count": 8,
   "metadata": {},
   "outputs": [],
   "source": [
    "# Function\n",
    "def calc_Fvalue(values1:list, values2:list, values3:list)->float:\n",
    "    '''\n",
    "    F値を計算する\n",
    "\n",
    "    Args\n",
    "        values1 (list) : 因子1による結果の1次元リスト。numpy.arrayやpandas.Seriesも可\n",
    "        values2 (list) : 因子2による結果の1次元リスト。numpy.arrayやpandas.Seriesも可\n",
    "        values3 (list) : 因子3による結果の1次元リスト。numpy.arrayやpandas.Seriesも可\n",
    "\n",
    "    Return\n",
    "        F : 計算されたF値を返す。\n",
    "    '''\n",
    "\n",
    "    data = pd.concat([\n",
    "       pd.DataFrame({\"idx\":np.arange(len(values1)),\n",
    "                     \"Treatment\":[\"ctrl\" for i in range(len(values1))],\n",
    "                     \"Values\":values1}),\n",
    "       pd.DataFrame({\"idx\":np.arange(len(values2)),\n",
    "                     \"Treatment\":[\"trt1\" for i in range(len(values2))],\n",
    "                     \"Values\":values2}),\n",
    "       pd.DataFrame({\"idx\":np.arange(len(values3)),\n",
    "                     \"Treatment\":[\"trt2\" for i in range(len(values2))],\n",
    "                     \"Values\":values3}),\n",
    "       ]).sort_values(by=[\"idx\", \"Treatment\"]).reset_index(drop=True)\n",
    "\n",
    "    # calc mean\n",
    "    m_t = data[\"Values\"].mean()\n",
    "\n",
    "    # data\n",
    "    k = len(data[\"Treatment\"].unique())\n",
    "    N = len(data[\"idx\"].unique())\n",
    "\n",
    "    # calc SS_Total\n",
    "    ss_tot = np.sum((data[\"Values\"] - m_t)**2)\n",
    "    # calc SS_Treatment\n",
    "    ss_trt = N * np.sum((data.groupby(\"Treatment\")[\"Values\"].mean() - m_t)**2)\n",
    "    # calc SS_Subject\n",
    "    ss_sub = k * np.sum((data.groupby(\"idx\")[\"Values\"].mean() - m_t)**2)\n",
    "    # calc SS_treatment\n",
    "    ss_err = ss_tot - ss_trt - ss_sub\n",
    "\n",
    "    # df\n",
    "    df_trt = k - 1\n",
    "    df_sub = N - 1\n",
    "    df_err = df_trt * df_sub\n",
    "\n",
    "    # F値\n",
    "    ms_trt = ss_trt / df_trt\n",
    "    ms_sub = ss_sub / df_sub\n",
    "    ms_err = ss_err / df_err\n",
    "    F = ms_trt / ms_err\n",
    "\n",
    "    # print each value\n",
    "    print(f\"SS_treatment, SS_error : {ss_tot}, {ss_err}\")\n",
    "    print(f\"df_treatment, df_error : {df_trt}, {df_err}\")\n",
    "    print(f\"MS_treatment, MS_error : {ms_trt}, {ms_err}\")\n",
    "    print(f\"F value : {F}\")\n",
    "\n",
    "\n",
    "    return df_trt, df_sub, F"
   ]
  },
  {
   "cell_type": "code",
   "execution_count": 9,
   "metadata": {},
   "outputs": [
    {
     "name": "stdout",
     "output_type": "stream",
     "text": [
      "SS_treatment, SS_error : 14.258429999999999, 9.282526666666664\n",
      "df_treatment, df_error : 2, 18\n",
      "MS_treatment, MS_error : 1.8831700000000007, 0.5156959259259257\n",
      "F value : 3.6517061805729645\n",
      "5.714705386383056\n"
     ]
    }
   ],
   "source": [
    "# calculate t value\n",
    "dfA, dfE, F = calc_Fvalue(values1=values1, values2=values2, values3=values3)\n",
    "\n",
    "# 両側信頼係数のF値を求める。\n",
    "# 片側優位水準\n",
    "alpha = 0.05\n",
    "\n",
    "# scipy.statsを使って計算する。\n",
    "F_thre = stats.f.ppf(q=1 - alpha/2, dfn=dfA, dfd=dfE)\n",
    "print(F_thre)"
   ]
  },
  {
   "attachments": {},
   "cell_type": "markdown",
   "metadata": {},
   "source": [
    "2) statsmodels.stats.anova.AnovaRM()関数を使って計算する。"
   ]
  },
  {
   "cell_type": "code",
   "execution_count": 10,
   "metadata": {},
   "outputs": [
    {
     "data": {
      "text/html": [
       "<div>\n",
       "<style scoped>\n",
       "    .dataframe tbody tr th:only-of-type {\n",
       "        vertical-align: middle;\n",
       "    }\n",
       "\n",
       "    .dataframe tbody tr th {\n",
       "        vertical-align: top;\n",
       "    }\n",
       "\n",
       "    .dataframe thead th {\n",
       "        text-align: right;\n",
       "    }\n",
       "</style>\n",
       "<table border=\"1\" class=\"dataframe\">\n",
       "  <thead>\n",
       "    <tr style=\"text-align: right;\">\n",
       "      <th></th>\n",
       "      <th>F Value</th>\n",
       "      <th>Num DF</th>\n",
       "      <th>Den DF</th>\n",
       "      <th>Pr &gt; F</th>\n",
       "    </tr>\n",
       "  </thead>\n",
       "  <tbody>\n",
       "    <tr>\n",
       "      <th>Treatment</th>\n",
       "      <td>3.651706</td>\n",
       "      <td>2.0</td>\n",
       "      <td>18.0</td>\n",
       "      <td>0.046649</td>\n",
       "    </tr>\n",
       "  </tbody>\n",
       "</table>\n",
       "</div>"
      ],
      "text/plain": [
       "            F Value  Num DF  Den DF    Pr > F\n",
       "Treatment  3.651706     2.0    18.0  0.046649"
      ]
     },
     "execution_count": 10,
     "metadata": {},
     "output_type": "execute_result"
    }
   ],
   "source": [
    "data = pd.concat([\n",
    "       pd.DataFrame({\"idx\":np.arange(len(values1)),\n",
    "                     \"Treatment\":[\"ctrl\" for i in range(len(values1))],\n",
    "                     \"Values\":values1}),\n",
    "       pd.DataFrame({\"idx\":np.arange(len(values2)),\n",
    "                     \"Treatment\":[\"trt1\" for i in range(len(values2))],\n",
    "                     \"Values\":values2}),\n",
    "       pd.DataFrame({\"idx\":np.arange(len(values3)),\n",
    "                     \"Treatment\":[\"trt2\" for i in range(len(values2))],\n",
    "                     \"Values\":values3}),\n",
    "       ]).sort_values(by=[\"idx\", \"Treatment\"]).reset_index(drop=True)\n",
    "\n",
    "# AnovaRM\n",
    "anova = AnovaRM(data, 'Values', 'idx', within=['Treatment'])\n",
    "result = anova.fit()\n",
    "\n",
    "anova_table = result.anova_table\n",
    "anova_table"
   ]
  },
  {
   "attachments": {},
   "cell_type": "markdown",
   "metadata": {},
   "source": [
    "### (5) p値を計算する。\n",
    "- 検定統計量に基づいてp値を計算する。<br>"
   ]
  },
  {
   "cell_type": "code",
   "execution_count": 11,
   "metadata": {},
   "outputs": [
    {
     "name": "stdout",
     "output_type": "stream",
     "text": [
      "0.0466488248824482\n"
     ]
    }
   ],
   "source": [
    "print(anova_table[\"Pr > F\"][0])"
   ]
  },
  {
   "attachments": {},
   "cell_type": "markdown",
   "metadata": {},
   "source": [
    "### (6) 結果を解釈する。\n",
    "- p値と優位水準を比較して結果を解釈する。<br>\n",
    "p値≦$α$：帰無仮説を棄却し、対立仮説を採択する。<br>\n",
    "p値>$α$：帰無仮説を棄却できない"
   ]
  },
  {
   "attachments": {},
   "cell_type": "markdown",
   "metadata": {},
   "source": [
    "### 判定\n",
    "- p値0.0466で、優位水準5%より小さい。よって帰無仮説は棄却される。<br>\n",
    "-> 差はある"
   ]
  },
  {
   "cell_type": "markdown",
   "metadata": {},
   "source": [
    "### (7) 効果量を計算する。\n",
    "- 検定の結果が優位であれば、効果量を計算し意義を評価する。<br>"
   ]
  },
  {
   "attachments": {},
   "cell_type": "markdown",
   "metadata": {},
   "source": [
    "方法) パーシャルイータ二乗$\\eta_p^2$で計算する。\n",
    "\n",
    "$\\eta_p^2$ : 各要因と交互作用項が従属変数にどれだけの影響を与えるかを示す指標<br>\n",
    "\n",
    "因子の効果量:<br>\n",
    "$\\eta_p^2 = \\frac{SS_{treatment}}{SS_{treatment} + SS_{error}}$<br>\n",
    "\n",
    "各変数は<br>\n",
    "$\\eta_p^2$: 因子のパーシャルイータ二乗<br>\n",
    "$SS_{treatment}$: 因子の平方和<br>\n",
    "$SS_{error}$: 残差の平方和<br>\n",
    "\n",
    "$\\eta_p^2$の値が大きいほど、効果量が大きいと判断する。<br>\n",
    "効果量の大きさの目安は、\n",
    "\n",
    "0.01: 小さい効果<br>\n",
    "0.06: 中程度の効果<br>\n",
    "0.14: 大きい効果<br>"
   ]
  },
  {
   "cell_type": "code",
   "execution_count": 12,
   "metadata": {},
   "outputs": [],
   "source": [
    "# Function\n",
    "def partial_eta_sq(values1:list, values2:list, values3:list)->float:\n",
    "    '''\n",
    "    partial eta squared値を計算する\n",
    "\n",
    "    Args\n",
    "        values1 (list) : 因子1による結果の1次元リスト。numpy.arrayやpandas.Seriesも可\n",
    "        values2 (list) : 因子2による結果の1次元リスト。numpy.arrayやpandas.Seriesも可\n",
    "        values3 (list) : 因子3による結果の1次元リスト。numpy.arrayやpandas.Seriesも可\n",
    "\n",
    "    Return\n",
    "        F : 計算されたF値を返す。\n",
    "    '''\n",
    "\n",
    "    data = pd.concat([\n",
    "       pd.DataFrame({\"idx\":np.arange(len(values1)),\n",
    "                     \"Treatment\":[\"ctrl\" for i in range(len(values1))],\n",
    "                     \"Values\":values1}),\n",
    "       pd.DataFrame({\"idx\":np.arange(len(values2)),\n",
    "                     \"Treatment\":[\"trt1\" for i in range(len(values2))],\n",
    "                     \"Values\":values2}),\n",
    "       pd.DataFrame({\"idx\":np.arange(len(values3)),\n",
    "                     \"Treatment\":[\"trt2\" for i in range(len(values2))],\n",
    "                     \"Values\":values3}),\n",
    "       ]).sort_values(by=[\"idx\", \"Treatment\"]).reset_index(drop=True)\n",
    "\n",
    "    # calc mean\n",
    "    m_t = data[\"Values\"].mean()\n",
    "\n",
    "    # data\n",
    "    k = len(data[\"Treatment\"].unique())\n",
    "    N = len(data[\"idx\"].unique())\n",
    "\n",
    "    # calc SS_Total\n",
    "    ss_tot = np.sum((data[\"Values\"] - m_t)**2)\n",
    "    # calc SS_Treatment\n",
    "    ss_trt = N * np.sum((data.groupby(\"Treatment\")[\"Values\"].mean() - m_t)**2)\n",
    "    # calc SS_Subject\n",
    "    ss_sub = k * np.sum((data.groupby(\"idx\")[\"Values\"].mean() - m_t)**2)\n",
    "    # calc SS_treatment\n",
    "    ss_err = ss_tot - ss_trt - ss_sub\n",
    "\n",
    "    # partial_eta_squared\n",
    "    pes = ss_trt / (ss_trt + ss_err)\n",
    "\n",
    "    # print each value\n",
    "    print(f\"SS_treatment, SS_error : {ss_tot}, {ss_err}\")\n",
    "    print(f\"partial_eta_squared : {pes}\")\n",
    "\n",
    "    return pes"
   ]
  },
  {
   "cell_type": "code",
   "execution_count": 13,
   "metadata": {},
   "outputs": [
    {
     "name": "stdout",
     "output_type": "stream",
     "text": [
      "SS_treatment, SS_error : 14.258429999999999, 9.282526666666664\n",
      "partial_eta_squared : 0.28863349562925017\n"
     ]
    }
   ],
   "source": [
    "peta_squared = partial_eta_sq(values1, values2, values3)"
   ]
  },
  {
   "attachments": {},
   "cell_type": "markdown",
   "metadata": {},
   "source": [
    "### 判定\n",
    "\n",
    "$\\eta_p^2$は0.29であり大きい効果。<br>"
   ]
  },
  {
   "cell_type": "markdown",
   "metadata": {},
   "source": []
  }
 ],
 "metadata": {
  "kernelspec": {
   "display_name": "Python 3",
   "language": "python",
   "name": "python3"
  },
  "language_info": {
   "codemirror_mode": {
    "name": "ipython",
    "version": 3
   },
   "file_extension": ".py",
   "mimetype": "text/x-python",
   "name": "python",
   "nbconvert_exporter": "python",
   "pygments_lexer": "ipython3",
   "version": "3.9.7"
  },
  "orig_nbformat": 4
 },
 "nbformat": 4,
 "nbformat_minor": 2
}
